{
 "cells": [
  {
   "cell_type": "code",
   "execution_count": 1,
   "metadata": {},
   "outputs": [],
   "source": [
    "from os import listdir\n",
    "from os.path import isdir, join\n",
    "from tensorflow.keras import layers, models, utils\n",
    "import numpy as np\n",
    "from keras.models import Sequential \n",
    "from keras import optimizers\n",
    "from keras.preprocessing import image\n",
    "from keras.layers import Dropout, Flatten, Dense \n",
    "from keras import applications \n",
    "from keras.utils.np_utils import to_categorical"
   ]
  },
  {
   "cell_type": "code",
   "execution_count": 2,
   "metadata": {},
   "outputs": [
    {
     "name": "stdout",
     "output_type": "stream",
     "text": [
      "['A#3', 'A#4', 'A3', 'A4', 'B3', 'B4', 'C#3', 'C#4', 'C3', 'C4', 'D#3', 'D#4', 'D3', 'D4', 'E3', 'E4', 'F#3', 'F#4', 'F3', 'F4', 'G3', 'G4']\n",
      "22\n"
     ]
    }
   ],
   "source": [
    "# Create list of all targets (minus background noise)\n",
    "dataset_path = 'C:\\\\Users\\\\Greg\\\\ML\\\\Technical\\\\project\\\\git2\\\\monophonic_classfication_cnn\\\\padded'\n",
    "all_targets = all_targets = [name for name in listdir(dataset_path) if isdir(join(dataset_path, name))]\n",
    "all_targets.remove('_background_noise_')\n",
    "print(all_targets)\n",
    "numclasses = len(all_targets)\n",
    "print(numclasses)"
   ]
  },
  {
   "cell_type": "code",
   "execution_count": 3,
   "metadata": {},
   "outputs": [],
   "source": [
    "# Settings\n",
    "feature_sets_path = 'C:\\\\Users\\\\Greg\\\\ML\\\\Technical\\\\project\\\\git2\\\\monophonic_classfication_cnn\\\\audioScripts'\n",
    "feature_sets_filename = 'all_targets_mfcc_sets.npz'\n",
    "model_filename = 'model.h5'\n",
    "pitch = 'A#4'"
   ]
  },
  {
   "cell_type": "code",
   "execution_count": 4,
   "metadata": {},
   "outputs": [
    {
     "name": "stdout",
     "output_type": "stream",
     "text": [
      "['x_train', 'y_train', 'x_val', 'y_val', 'x_test', 'y_test']\n"
     ]
    }
   ],
   "source": [
    "# Load feature sets\n",
    "feature_sets = np.load(join(feature_sets_path, feature_sets_filename))\n",
    "print(feature_sets.files)"
   ]
  },
  {
   "cell_type": "code",
   "execution_count": 5,
   "metadata": {},
   "outputs": [],
   "source": [
    "# Assign feature sets\n",
    "x_train = feature_sets['x_train']\n",
    "y_train = feature_sets['y_train']\n",
    "x_val = feature_sets['x_val']\n",
    "y_val = feature_sets['y_val']\n",
    "x_test = feature_sets['x_test']\n",
    "y_test = feature_sets['y_test']"
   ]
  },
  {
   "cell_type": "code",
   "execution_count": 6,
   "metadata": {},
   "outputs": [
    {
     "name": "stdout",
     "output_type": "stream",
     "text": [
      "(1024, 16, 16)\n",
      "(128, 16, 16)\n",
      "(128, 16, 16)\n"
     ]
    }
   ],
   "source": [
    "# Look at tensor dimensions\n",
    "print(x_train.shape)\n",
    "print(x_val.shape)\n",
    "print(x_test.shape)"
   ]
  },
  {
   "cell_type": "code",
   "execution_count": 7,
   "metadata": {},
   "outputs": [
    {
     "name": "stdout",
     "output_type": "stream",
     "text": [
      "[21.  9. 13.  0.  0. 10. 13. 13.  0. 13. 10.  9. 15.  0.  9. 18.  0. 20.\n",
      " 11. 13.  8.  6. 12.  4.  2.  3.  7. 11.  5.  1.  5. 11.  4.  2.  8.  1.\n",
      "  5.  2.  3.  6. 10.  7. 11. 13.  2. 17.  5. 11.  3.  5. 13.  2.  5. 10.\n",
      "  5. 12.  9.  4.  8.  9. 18. 15.  4.  9.  4.  4.  6.  0.  5.  1.  4. 11.\n",
      " 10. 13.  3.  4. 17. 15.  4. 20.  4. 15. 19.  5. 14. 21. 11.  6.  5. 11.\n",
      " 20.  2.  1.  0.  2.  5.  3. 10. 17.  5.  3.  1. 17.  1. 20. 12. 17.  0.\n",
      " 11. 14.  6.  4. 11. 10. 15.  0. 20. 14. 19. 13.  4.  0. 21. 18.  6. 11.\n",
      "  8. 19.]\n"
     ]
    }
   ],
   "source": [
    "# Peek at labels\n",
    "print(y_val)"
   ]
  },
  {
   "cell_type": "code",
   "execution_count": 8,
   "metadata": {},
   "outputs": [],
   "source": [
    "# Convert ground truth arrays to one wake word (1) and 'other' (0)\n",
    "pitch_index = all_targets.index(pitch)\n",
    "y_train = np.equal(y_train, pitch_index).astype('float64')\n",
    "y_val = np.equal(y_val, pitch_index).astype('float64')\n",
    "y_test = np.equal(y_test, pitch_index).astype('float64')"
   ]
  },
  {
   "cell_type": "code",
   "execution_count": 9,
   "metadata": {},
   "outputs": [
    {
     "name": "stdout",
     "output_type": "stream",
     "text": [
      "[0. 0. 0. 0. 0. 0. 0. 0. 0. 0. 0. 0. 0. 0. 0. 0. 0. 0. 0. 0. 0. 0. 0. 0.\n",
      " 0. 0. 0. 0. 0. 1. 0. 0. 0. 0. 0. 1. 0. 0. 0. 0. 0. 0. 0. 0. 0. 0. 0. 0.\n",
      " 0. 0. 0. 0. 0. 0. 0. 0. 0. 0. 0. 0. 0. 0. 0. 0. 0. 0. 0. 0. 0. 1. 0. 0.\n",
      " 0. 0. 0. 0. 0. 0. 0. 0. 0. 0. 0. 0. 0. 0. 0. 0. 0. 0. 0. 0. 1. 0. 0. 0.\n",
      " 0. 0. 0. 0. 0. 1. 0. 1. 0. 0. 0. 0. 0. 0. 0. 0. 0. 0. 0. 0. 0. 0. 0. 0.\n",
      " 0. 0. 0. 0. 0. 0. 0. 0.]\n"
     ]
    }
   ],
   "source": [
    "# Peek at labels after conversion\n",
    "print(y_val)"
   ]
  },
  {
   "cell_type": "code",
   "execution_count": 10,
   "metadata": {},
   "outputs": [
    {
     "name": "stdout",
     "output_type": "stream",
     "text": [
      "0.046875\n",
      "0.953125\n"
     ]
    }
   ],
   "source": [
    "# What percentage of 'stop' appear in validation labels\n",
    "print(sum(y_val) / len(y_val))\n",
    "print(1 - sum(y_val) / len(y_val))"
   ]
  },
  {
   "cell_type": "code",
   "execution_count": 11,
   "metadata": {},
   "outputs": [
    {
     "name": "stdout",
     "output_type": "stream",
     "text": [
      "(1024, 16, 16)\n"
     ]
    }
   ],
   "source": [
    "# View the dimensions of our input data\n",
    "print(x_train.shape)"
   ]
  },
  {
   "cell_type": "code",
   "execution_count": 12,
   "metadata": {},
   "outputs": [
    {
     "name": "stdout",
     "output_type": "stream",
     "text": [
      "(1024, 16, 16, 1)\n",
      "(128, 16, 16, 1)\n",
      "(128, 16, 16, 1)\n"
     ]
    }
   ],
   "source": [
    "# CNN for TF expects (batch, height, width, channels)\n",
    "# So we reshape the input tensors with a \"color\" channel of 1\n",
    "x_train = x_train.reshape(x_train.shape[0], x_train.shape[1], x_train.shape[2], 1)\n",
    "x_val = x_val.reshape(x_val.shape[0], x_val.shape[1], x_val.shape[2], 1)\n",
    "x_test = x_test.reshape(x_test.shape[0], x_test.shape[1], x_test.shape[2], 1)\n",
    "\n",
    "\n",
    "print(x_train.shape)\n",
    "print(x_val.shape)\n",
    "print(x_test.shape)"
   ]
  },
  {
   "cell_type": "code",
   "execution_count": 13,
   "metadata": {},
   "outputs": [
    {
     "name": "stdout",
     "output_type": "stream",
     "text": [
      "(16, 16, 1)\n"
     ]
    }
   ],
   "source": [
    "# Input shape for CNN is size of MFCC of 1 sample\n",
    "sample_shape = x_test.shape[1:]\n",
    "print(sample_shape)"
   ]
  },
  {
   "cell_type": "code",
   "execution_count": 14,
   "metadata": {},
   "outputs": [],
   "source": [
    "# Build model\n",
    "# Based on: https://www.geeksforgeeks.org/python-image-classification-using-keras/\n",
    "model = models.Sequential()\n",
    "model.add(layers.Conv2D(32, (2, 2), activation='relu',input_shape=sample_shape))\n",
    "model.add(layers.MaxPooling2D(pool_size=(2, 2)))\n",
    "model.add(layers.Conv2D(32, (2, 2), activation='relu'))\n",
    "model.add(layers.MaxPooling2D(pool_size=(2, 2)))\n",
    "\n",
    "model.add(layers.Conv2D(64, (2, 2), activation='relu'))\n",
    "model.add(layers.MaxPooling2D(pool_size=(2, 2)))\n",
    "\n",
    "# Classifier\n",
    "model.add(layers.Flatten())\n",
    "model.add(layers.Dense(64, activation='relu'))\n",
    "model.add(layers.Dropout(0.5))\n",
    "\n",
    "model.add(layers.Dense(1, activation='sigmoid'))"
   ]
  },
  {
   "cell_type": "code",
   "execution_count": 15,
   "metadata": {},
   "outputs": [
    {
     "name": "stdout",
     "output_type": "stream",
     "text": [
      "Model: \"sequential\"\n",
      "_________________________________________________________________\n",
      " Layer (type)                Output Shape              Param #   \n",
      "=================================================================\n",
      " conv2d (Conv2D)             (None, 15, 15, 32)        160       \n",
      "                                                                 \n",
      " max_pooling2d (MaxPooling2D  (None, 7, 7, 32)         0         \n",
      " )                                                               \n",
      "                                                                 \n",
      " conv2d_1 (Conv2D)           (None, 6, 6, 32)          4128      \n",
      "                                                                 \n",
      " max_pooling2d_1 (MaxPooling  (None, 3, 3, 32)         0         \n",
      " 2D)                                                             \n",
      "                                                                 \n",
      " conv2d_2 (Conv2D)           (None, 2, 2, 64)          8256      \n",
      "                                                                 \n",
      " max_pooling2d_2 (MaxPooling  (None, 1, 1, 64)         0         \n",
      " 2D)                                                             \n",
      "                                                                 \n",
      " flatten (Flatten)           (None, 64)                0         \n",
      "                                                                 \n",
      " dense (Dense)               (None, 64)                4160      \n",
      "                                                                 \n",
      " dropout (Dropout)           (None, 64)                0         \n",
      "                                                                 \n",
      " dense_1 (Dense)             (None, 1)                 65        \n",
      "                                                                 \n",
      "=================================================================\n",
      "Total params: 16,769\n",
      "Trainable params: 16,769\n",
      "Non-trainable params: 0\n",
      "_________________________________________________________________\n"
     ]
    }
   ],
   "source": [
    "# Display model\n",
    "model.summary()"
   ]
  },
  {
   "cell_type": "code",
   "execution_count": 16,
   "metadata": {},
   "outputs": [],
   "source": [
    "# Add training parameters to model\n",
    "model.compile(loss='binary_crossentropy', \n",
    "              optimizer='rmsprop', \n",
    "              metrics=['acc'])"
   ]
  },
  {
   "cell_type": "code",
   "execution_count": 17,
   "metadata": {},
   "outputs": [
    {
     "name": "stdout",
     "output_type": "stream",
     "text": [
      "Epoch 1/30\n",
      "11/11 [==============================] - 1s 33ms/step - loss: 0.3848 - acc: 0.8633 - val_loss: 0.1655 - val_acc: 0.9531\n",
      "Epoch 2/30\n",
      "11/11 [==============================] - 0s 13ms/step - loss: 0.2049 - acc: 0.9521 - val_loss: 0.1703 - val_acc: 0.9531\n",
      "Epoch 3/30\n",
      "11/11 [==============================] - 0s 13ms/step - loss: 0.1769 - acc: 0.9521 - val_loss: 0.1677 - val_acc: 0.9531\n",
      "Epoch 4/30\n",
      "11/11 [==============================] - 0s 13ms/step - loss: 0.1750 - acc: 0.9531 - val_loss: 0.1435 - val_acc: 0.9531\n",
      "Epoch 5/30\n",
      "11/11 [==============================] - 0s 12ms/step - loss: 0.1562 - acc: 0.9521 - val_loss: 0.1655 - val_acc: 0.9531\n",
      "Epoch 6/30\n",
      "11/11 [==============================] - 0s 13ms/step - loss: 0.1652 - acc: 0.9473 - val_loss: 0.2074 - val_acc: 0.9531\n",
      "Epoch 7/30\n",
      "11/11 [==============================] - 0s 13ms/step - loss: 0.1587 - acc: 0.9521 - val_loss: 0.1562 - val_acc: 0.9531\n",
      "Epoch 8/30\n",
      "11/11 [==============================] - 0s 13ms/step - loss: 0.1502 - acc: 0.9521 - val_loss: 0.1418 - val_acc: 0.9531\n",
      "Epoch 9/30\n",
      "11/11 [==============================] - 0s 13ms/step - loss: 0.1539 - acc: 0.9521 - val_loss: 0.1631 - val_acc: 0.9531\n",
      "Epoch 10/30\n",
      "11/11 [==============================] - 0s 12ms/step - loss: 0.1446 - acc: 0.9521 - val_loss: 0.1391 - val_acc: 0.9531\n",
      "Epoch 11/30\n",
      "11/11 [==============================] - 0s 12ms/step - loss: 0.1418 - acc: 0.9541 - val_loss: 0.1319 - val_acc: 0.9531\n",
      "Epoch 12/30\n",
      "11/11 [==============================] - 0s 12ms/step - loss: 0.1365 - acc: 0.9541 - val_loss: 0.1462 - val_acc: 0.9531\n",
      "Epoch 13/30\n",
      "11/11 [==============================] - 0s 13ms/step - loss: 0.1459 - acc: 0.9531 - val_loss: 0.1220 - val_acc: 0.9531\n",
      "Epoch 14/30\n",
      "11/11 [==============================] - 0s 12ms/step - loss: 0.1197 - acc: 0.9541 - val_loss: 0.1169 - val_acc: 0.9609\n",
      "Epoch 15/30\n",
      "11/11 [==============================] - 0s 12ms/step - loss: 0.1353 - acc: 0.9561 - val_loss: 0.1117 - val_acc: 0.9609\n",
      "Epoch 16/30\n",
      "11/11 [==============================] - 0s 15ms/step - loss: 0.1197 - acc: 0.9551 - val_loss: 0.1151 - val_acc: 0.9609\n",
      "Epoch 17/30\n",
      "11/11 [==============================] - 0s 12ms/step - loss: 0.1225 - acc: 0.9551 - val_loss: 0.1101 - val_acc: 0.9609\n",
      "Epoch 18/30\n",
      "11/11 [==============================] - 0s 13ms/step - loss: 0.1184 - acc: 0.9551 - val_loss: 0.0989 - val_acc: 0.9609\n",
      "Epoch 19/30\n",
      "11/11 [==============================] - 0s 18ms/step - loss: 0.1070 - acc: 0.9590 - val_loss: 0.1163 - val_acc: 0.9609\n",
      "Epoch 20/30\n",
      "11/11 [==============================] - 0s 15ms/step - loss: 0.1140 - acc: 0.9619 - val_loss: 0.1286 - val_acc: 0.9609\n",
      "Epoch 21/30\n",
      "11/11 [==============================] - 0s 15ms/step - loss: 0.1097 - acc: 0.9580 - val_loss: 0.1026 - val_acc: 0.9844\n",
      "Epoch 22/30\n",
      "11/11 [==============================] - 0s 16ms/step - loss: 0.1043 - acc: 0.9590 - val_loss: 0.1115 - val_acc: 0.9609\n",
      "Epoch 23/30\n",
      "11/11 [==============================] - 0s 13ms/step - loss: 0.1036 - acc: 0.9609 - val_loss: 0.1025 - val_acc: 0.9609\n",
      "Epoch 24/30\n",
      "11/11 [==============================] - 0s 13ms/step - loss: 0.0949 - acc: 0.9697 - val_loss: 0.0952 - val_acc: 0.9688\n",
      "Epoch 25/30\n",
      "11/11 [==============================] - 0s 12ms/step - loss: 0.1091 - acc: 0.9648 - val_loss: 0.1187 - val_acc: 0.9609\n",
      "Epoch 26/30\n",
      "11/11 [==============================] - 0s 12ms/step - loss: 0.0991 - acc: 0.9688 - val_loss: 0.1023 - val_acc: 0.9844\n",
      "Epoch 27/30\n",
      "11/11 [==============================] - 0s 12ms/step - loss: 0.0914 - acc: 0.9668 - val_loss: 0.1117 - val_acc: 0.9609\n",
      "Epoch 28/30\n",
      "11/11 [==============================] - 0s 13ms/step - loss: 0.0874 - acc: 0.9688 - val_loss: 0.0903 - val_acc: 0.9766\n",
      "Epoch 29/30\n",
      "11/11 [==============================] - 0s 12ms/step - loss: 0.0889 - acc: 0.9648 - val_loss: 0.0976 - val_acc: 0.9688\n",
      "Epoch 30/30\n",
      "11/11 [==============================] - 0s 13ms/step - loss: 0.0832 - acc: 0.9736 - val_loss: 0.1086 - val_acc: 0.9688\n"
     ]
    }
   ],
   "source": [
    "# Train\n",
    "history = model.fit(x_train, \n",
    "                    y_train, \n",
    "                    epochs=30, \n",
    "                    batch_size=100, \n",
    "                    validation_data=(x_val, y_val))"
   ]
  },
  {
   "cell_type": "code",
   "execution_count": 18,
   "metadata": {},
   "outputs": [
    {
     "data": {
      "image/png": "[encoded data removed]",
      "text/plain": [
       "<Figure size 432x288 with 1 Axes>"
      ]
     },
     "metadata": {
      "needs_background": "light"
     },
     "output_type": "display_data"
    },
    {
     "data": {
      "image/png": "[encoded data removed]",
      "text/plain": [
       "<Figure size 432x288 with 1 Axes>"
      ]
     },
     "metadata": {
      "needs_background": "light"
     },
     "output_type": "display_data"
    }
   ],
   "source": [
    "# Plot results\n",
    "import matplotlib.pyplot as plt\n",
    "\n",
    "acc = history.history['acc']\n",
    "val_acc = history.history['val_acc']\n",
    "loss = history.history['loss']\n",
    "val_loss = history.history['val_loss']\n",
    "\n",
    "epochs = range(1, len(acc) + 1)\n",
    "\n",
    "plt.plot(epochs, acc, 'bo', label='Training acc')\n",
    "plt.plot(epochs, val_acc, 'b', label='Validation acc')\n",
    "plt.title('Training and validation accuracy')\n",
    "plt.legend()\n",
    "\n",
    "plt.figure()\n",
    "\n",
    "plt.plot(epochs, loss, 'bo', label='Training loss')\n",
    "plt.plot(epochs, val_loss, 'b', label='Validation loss')\n",
    "plt.title('Training and validation loss')\n",
    "plt.legend()\n",
    "\n",
    "plt.show()"
   ]
  },
  {
   "cell_type": "code",
   "execution_count": 19,
   "metadata": {},
   "outputs": [],
   "source": [
    "# Save the model as a file\n",
    "models.save_model(model, model_filename)"
   ]
  },
  {
   "cell_type": "code",
   "execution_count": 20,
   "metadata": {},
   "outputs": [
    {
     "name": "stdout",
     "output_type": "stream",
     "text": [
      "13\n",
      "16\n",
      "29\n",
      "33\n",
      "35\n",
      "42\n",
      "45\n",
      "93\n",
      "112\n",
      "122\n"
     ]
    }
   ],
   "source": [
    "# See which are 'stop'\n",
    "for idx, y in enumerate(y_test):\n",
    "    if y == 1:\n",
    "        print(idx)"
   ]
  },
  {
   "cell_type": "code",
   "execution_count": 21,
   "metadata": {},
   "outputs": [
    {
     "name": "stdout",
     "output_type": "stream",
     "text": [
      "1/1 [==============================] - 0s 106ms/step\n",
      "Answer: 0.0  Prediction: [[0.0004679]]\n",
      "1/1 [==============================] - 0s 18ms/step\n",
      "Answer: 0.0  Prediction: [[0.01780551]]\n",
      "1/1 [==============================] - 0s 18ms/step\n",
      "Answer: 0.0  Prediction: [[2.0047373e-05]]\n",
      "1/1 [==============================] - 0s 17ms/step\n",
      "Answer: 0.0  Prediction: [[0.00023861]]\n",
      "1/1 [==============================] - 0s 17ms/step\n",
      "Answer: 0.0  Prediction: [[5.4090873e-05]]\n",
      "1/1 [==============================] - 0s 17ms/step\n",
      "Answer: 0.0  Prediction: [[0.00469187]]\n",
      "1/1 [==============================] - 0s 17ms/step\n",
      "Answer: 0.0  Prediction: [[0.00082068]]\n",
      "1/1 [==============================] - 0s 20ms/step\n",
      "Answer: 0.0  Prediction: [[0.04307855]]\n",
      "1/1 [==============================] - 0s 17ms/step\n",
      "Answer: 0.0  Prediction: [[0.02719683]]\n",
      "1/1 [==============================] - 0s 18ms/step\n",
      "Answer: 0.0  Prediction: [[0.51962924]]\n",
      "1/1 [==============================] - 0s 20ms/step\n",
      "Answer: 0.0  Prediction: [[2.1355938e-06]]\n",
      "1/1 [==============================] - 0s 17ms/step\n",
      "Answer: 0.0  Prediction: [[0.0038752]]\n",
      "1/1 [==============================] - 0s 19ms/step\n",
      "Answer: 1.0  Prediction: [[0.00123477]]\n",
      "1/1 [==============================] - 0s 17ms/step\n",
      "Answer: 0.0  Prediction: [[0.02541429]]\n",
      "1/1 [==============================] - 0s 16ms/step\n",
      "Answer: 0.0  Prediction: [[0.0717021]]\n",
      "1/1 [==============================] - 0s 16ms/step\n",
      "Answer: 1.0  Prediction: [[0.23648606]]\n",
      "1/1 [==============================] - 0s 20ms/step\n",
      "Answer: 0.0  Prediction: [[1.8779188e-07]]\n",
      "1/1 [==============================] - 0s 20ms/step\n",
      "Answer: 0.0  Prediction: [[0.00063542]]\n",
      "1/1 [==============================] - 0s 21ms/step\n",
      "Answer: 0.0  Prediction: [[0.0032492]]\n",
      "1/1 [==============================] - 0s 16ms/step\n",
      "Answer: 0.0  Prediction: [[0.02609637]]\n",
      "1/1 [==============================] - 0s 17ms/step\n",
      "Answer: 0.0  Prediction: [[0.00054295]]\n",
      "1/1 [==============================] - 0s 20ms/step\n",
      "Answer: 0.0  Prediction: [[6.438031e-06]]\n",
      "1/1 [==============================] - 0s 17ms/step\n",
      "Answer: 0.0  Prediction: [[0.00077252]]\n",
      "1/1 [==============================] - 0s 20ms/step\n",
      "Answer: 0.0  Prediction: [[0.4006432]]\n",
      "1/1 [==============================] - 0s 20ms/step\n",
      "Answer: 0.0  Prediction: [[6.521473e-09]]\n",
      "1/1 [==============================] - 0s 15ms/step\n",
      "Answer: 0.0  Prediction: [[5.055545e-05]]\n",
      "1/1 [==============================] - 0s 19ms/step\n",
      "Answer: 0.0  Prediction: [[3.458544e-05]]\n",
      "1/1 [==============================] - 0s 19ms/step\n",
      "Answer: 0.0  Prediction: [[0.00064661]]\n",
      "1/1 [==============================] - 0s 18ms/step\n",
      "Answer: 1.0  Prediction: [[0.70413315]]\n",
      "1/1 [==============================] - 0s 16ms/step\n",
      "Answer: 0.0  Prediction: [[1.3874602e-06]]\n",
      "1/1 [==============================] - 0s 17ms/step\n",
      "Answer: 0.0  Prediction: [[0.00013468]]\n",
      "1/1 [==============================] - 0s 19ms/step\n",
      "Answer: 0.0  Prediction: [[0.00376913]]\n",
      "1/1 [==============================] - 0s 19ms/step\n",
      "Answer: 1.0  Prediction: [[0.05567918]]\n",
      "1/1 [==============================] - 0s 17ms/step\n",
      "Answer: 0.0  Prediction: [[0.00082188]]\n",
      "1/1 [==============================] - 0s 18ms/step\n",
      "Answer: 1.0  Prediction: [[0.58520526]]\n",
      "1/1 [==============================] - 0s 16ms/step\n",
      "Answer: 0.0  Prediction: [[0.00700715]]\n",
      "1/1 [==============================] - 0s 17ms/step\n",
      "Answer: 0.0  Prediction: [[0.3421602]]\n",
      "1/1 [==============================] - 0s 18ms/step\n",
      "Answer: 0.0  Prediction: [[0.02754768]]\n",
      "1/1 [==============================] - 0s 17ms/step\n",
      "Answer: 0.0  Prediction: [[1.953745e-08]]\n",
      "1/1 [==============================] - 0s 17ms/step\n",
      "Answer: 0.0  Prediction: [[0.01066529]]\n",
      "1/1 [==============================] - 0s 20ms/step\n",
      "Answer: 0.0  Prediction: [[0.02386019]]\n",
      "1/1 [==============================] - 0s 19ms/step\n",
      "Answer: 1.0  Prediction: [[0.1777186]]\n",
      "1/1 [==============================] - 0s 18ms/step\n",
      "Answer: 0.0  Prediction: [[0.00773291]]\n",
      "1/1 [==============================] - 0s 18ms/step\n",
      "Answer: 0.0  Prediction: [[0.06234962]]\n",
      "1/1 [==============================] - 0s 21ms/step\n",
      "Answer: 1.0  Prediction: [[0.7343084]]\n",
      "1/1 [==============================] - 0s 21ms/step\n",
      "Answer: 0.0  Prediction: [[0.00100977]]\n",
      "1/1 [==============================] - 0s 18ms/step\n",
      "Answer: 0.0  Prediction: [[0.00129821]]\n",
      "1/1 [==============================] - 0s 16ms/step\n",
      "Answer: 0.0  Prediction: [[2.8609002e-05]]\n",
      "1/1 [==============================] - 0s 17ms/step\n",
      "Answer: 0.0  Prediction: [[2.1832756e-08]]\n"
     ]
    }
   ],
   "source": [
    "# TEST: Load model and run it against test set\n",
    "model = models.load_model(model_filename)\n",
    "for i in range(1, 50):\n",
    "    print('Answer:', y_test[i], ' Prediction:', model.predict(np.expand_dims(x_test[i], 0)))"
   ]
  },
  {
   "cell_type": "code",
   "execution_count": 22,
   "metadata": {},
   "outputs": [
    {
     "name": "stdout",
     "output_type": "stream",
     "text": [
      "4/4 [==============================] - 0s 3ms/step - loss: 0.1824 - acc: 0.9453\n"
     ]
    },
    {
     "data": {
      "text/plain": [
       "[0.1823681741952896, 0.9453125]"
      ]
     },
     "execution_count": 22,
     "metadata": {},
     "output_type": "execute_result"
    }
   ],
   "source": [
    "# Evaluate model with test set\n",
    "model.evaluate(x=x_test, y=y_test)"
   ]
  },
  {
   "cell_type": "code",
   "execution_count": null,
   "metadata": {},
   "outputs": [],
   "source": []
  }
 ],
 "metadata": {
  "kernelspec": {
   "display_name": "Python 3 (ipykernel)",
   "language": "python",
   "name": "python3"
  },
  "language_info": {
   "codemirror_mode": {
    "name": "ipython",
    "version": 3
   },
   "file_extension": ".py",
   "mimetype": "text/x-python",
   "name": "python",
   "nbconvert_exporter": "python",
   "pygments_lexer": "ipython3",
   "version": "3.9.12"
  }
 },
 "nbformat": 4,
 "nbformat_minor": 4
}
