{
 "cells": [
  {
   "cell_type": "code",
   "execution_count": 1,
   "metadata": {
    "tags": []
   },
   "outputs": [],
   "source": [
    "from os import listdir\n",
    "from os.path import isdir, join\n",
    "import librosa\n",
    "import random\n",
    "import numpy as np\n",
    "import matplotlib.pyplot as plt\n",
    "import python_speech_features"
   ]
  },
  {
   "cell_type": "code",
   "execution_count": 2,
   "metadata": {},
   "outputs": [
    {
     "name": "stdout",
     "output_type": "stream",
     "text": [
      "A#3\n",
      "A#4\n",
      "A3\n",
      "A4\n",
      "B3\n",
      "B4\n",
      "C#3\n",
      "C#4\n",
      "C3\n",
      "C4\n",
      "D#3\n",
      "D#4\n",
      "D3\n",
      "D4\n",
      "E3\n",
      "E4\n",
      "F#3\n",
      "F#4\n",
      "F3\n",
      "F4\n",
      "G3\n",
      "G4\n",
      "_background_noise_\n"
     ]
    }
   ],
   "source": [
    "# Dataset path and view possible targets\n",
    "dataset_path = 'C:\\\\Users\\\\Greg\\\\ML\\\\Technical\\\\project\\\\git2\\\\monophonic_classfication_cnn\\\\padded'\n",
    "for name in listdir(dataset_path):\n",
    "    if isdir(join(dataset_path, name)):\n",
    "        print(name)"
   ]
  },
  {
   "cell_type": "code",
   "execution_count": 3,
   "metadata": {},
   "outputs": [
    {
     "name": "stdout",
     "output_type": "stream",
     "text": [
      "['A#3', 'A#4', 'A3', 'A4', 'B3', 'B4', 'C#3', 'C#4', 'C3', 'C4', 'D#3', 'D#4', 'D3', 'D4', 'E3', 'E4', 'F#3', 'F#4', 'F3', 'F4', 'G3', 'G4', '_background_noise_']\n"
     ]
    }
   ],
   "source": [
    "# Create an all targets list\n",
    "all_targets = [name for name in listdir(dataset_path) if isdir(join(dataset_path, name))]\n",
    "print(all_targets)"
   ]
  },
  {
   "cell_type": "code",
   "execution_count": 4,
   "metadata": {},
   "outputs": [
    {
     "name": "stdout",
     "output_type": "stream",
     "text": [
      "['A#3', 'A#4', 'A3', 'A4', 'B3', 'B4', 'C#3', 'C#4', 'C3', 'C4', 'D#3', 'D#4', 'D3', 'D4', 'E3', 'E4', 'F#3', 'F#4', 'F3', 'F4', 'G3', 'G4']\n"
     ]
    }
   ],
   "source": [
    "# Leave off background noise set\n",
    "all_targets.remove('_background_noise_')\n",
    "print(all_targets)"
   ]
  },
  {
   "cell_type": "code",
   "execution_count": 5,
   "metadata": {},
   "outputs": [
    {
     "name": "stdout",
     "output_type": "stream",
     "text": [
      "62\n",
      "65\n",
      "59\n",
      "65\n",
      "62\n",
      "65\n",
      "44\n",
      "62\n",
      "41\n",
      "62\n",
      "50\n",
      "65\n",
      "50\n",
      "68\n",
      "51\n",
      "66\n",
      "52\n",
      "59\n",
      "49\n",
      "65\n",
      "59\n",
      "59\n",
      "Total samples: 1280\n"
     ]
    }
   ],
   "source": [
    "# See how many files are in each\n",
    "num_samples = 0\n",
    "for target in all_targets:\n",
    "    print(len(listdir(join(dataset_path, target))))\n",
    "    num_samples += len(listdir(join(dataset_path, target)))\n",
    "print('Total samples:', num_samples)"
   ]
  },
  {
   "cell_type": "code",
   "execution_count": 6,
   "metadata": {},
   "outputs": [],
   "source": [
    "# Settings\n",
    "target_list = all_targets\n",
    "feature_sets_file = 'all_targets_mfcc_sets.npz'\n",
    "perc_keep_samples = 1.0 # 1.0 is keep all samples\n",
    "val_ratio = 0.1\n",
    "test_ratio = 0.1\n",
    "sample_rate = 44100\n",
    "num_mfcc = 16\n",
    "len_mfcc = 16"
   ]
  },
  {
   "cell_type": "code",
   "execution_count": 7,
   "metadata": {},
   "outputs": [
    {
     "name": "stdout",
     "output_type": "stream",
     "text": [
      "C:\\Users\\Greg\\ML\\Technical\\project\\git2\\monophonic_classfication_cnn\\padded\\A#3\n",
      "C:\\Users\\Greg\\ML\\Technical\\project\\git2\\monophonic_classfication_cnn\\padded\\A#4\n",
      "C:\\Users\\Greg\\ML\\Technical\\project\\git2\\monophonic_classfication_cnn\\padded\\A3\n",
      "C:\\Users\\Greg\\ML\\Technical\\project\\git2\\monophonic_classfication_cnn\\padded\\A4\n",
      "C:\\Users\\Greg\\ML\\Technical\\project\\git2\\monophonic_classfication_cnn\\padded\\B3\n",
      "C:\\Users\\Greg\\ML\\Technical\\project\\git2\\monophonic_classfication_cnn\\padded\\B4\n",
      "C:\\Users\\Greg\\ML\\Technical\\project\\git2\\monophonic_classfication_cnn\\padded\\C#3\n",
      "C:\\Users\\Greg\\ML\\Technical\\project\\git2\\monophonic_classfication_cnn\\padded\\C#4\n",
      "C:\\Users\\Greg\\ML\\Technical\\project\\git2\\monophonic_classfication_cnn\\padded\\C3\n",
      "C:\\Users\\Greg\\ML\\Technical\\project\\git2\\monophonic_classfication_cnn\\padded\\C4\n",
      "C:\\Users\\Greg\\ML\\Technical\\project\\git2\\monophonic_classfication_cnn\\padded\\D#3\n",
      "C:\\Users\\Greg\\ML\\Technical\\project\\git2\\monophonic_classfication_cnn\\padded\\D#4\n",
      "C:\\Users\\Greg\\ML\\Technical\\project\\git2\\monophonic_classfication_cnn\\padded\\D3\n",
      "C:\\Users\\Greg\\ML\\Technical\\project\\git2\\monophonic_classfication_cnn\\padded\\D4\n",
      "C:\\Users\\Greg\\ML\\Technical\\project\\git2\\monophonic_classfication_cnn\\padded\\E3\n",
      "C:\\Users\\Greg\\ML\\Technical\\project\\git2\\monophonic_classfication_cnn\\padded\\E4\n",
      "C:\\Users\\Greg\\ML\\Technical\\project\\git2\\monophonic_classfication_cnn\\padded\\F#3\n",
      "C:\\Users\\Greg\\ML\\Technical\\project\\git2\\monophonic_classfication_cnn\\padded\\F#4\n",
      "C:\\Users\\Greg\\ML\\Technical\\project\\git2\\monophonic_classfication_cnn\\padded\\F3\n",
      "C:\\Users\\Greg\\ML\\Technical\\project\\git2\\monophonic_classfication_cnn\\padded\\F4\n",
      "C:\\Users\\Greg\\ML\\Technical\\project\\git2\\monophonic_classfication_cnn\\padded\\G3\n",
      "C:\\Users\\Greg\\ML\\Technical\\project\\git2\\monophonic_classfication_cnn\\padded\\G4\n"
     ]
    }
   ],
   "source": [
    "# Create list of filenames along with ground truth vector (y)\n",
    "filenames = []\n",
    "y = []\n",
    "for index, target in enumerate(target_list):\n",
    "    print(join(dataset_path, target))\n",
    "    filenames.append(listdir(join(dataset_path, target)))\n",
    "    y.append(np.ones(len(filenames[index])) * index)"
   ]
  },
  {
   "cell_type": "code",
   "execution_count": 8,
   "metadata": {},
   "outputs": [
    {
     "name": "stdout",
     "output_type": "stream",
     "text": [
      "[array([0., 0., 0., 0., 0., 0., 0., 0., 0., 0., 0., 0., 0., 0., 0., 0., 0.,\n",
      "       0., 0., 0., 0., 0., 0., 0., 0., 0., 0., 0., 0., 0., 0., 0., 0., 0.,\n",
      "       0., 0., 0., 0., 0., 0., 0., 0., 0., 0., 0., 0., 0., 0., 0., 0., 0.,\n",
      "       0., 0., 0., 0., 0., 0., 0., 0., 0., 0., 0.]), array([1., 1., 1., 1., 1., 1., 1., 1., 1., 1., 1., 1., 1., 1., 1., 1., 1.,\n",
      "       1., 1., 1., 1., 1., 1., 1., 1., 1., 1., 1., 1., 1., 1., 1., 1., 1.,\n",
      "       1., 1., 1., 1., 1., 1., 1., 1., 1., 1., 1., 1., 1., 1., 1., 1., 1.,\n",
      "       1., 1., 1., 1., 1., 1., 1., 1., 1., 1., 1., 1., 1., 1.]), array([2., 2., 2., 2., 2., 2., 2., 2., 2., 2., 2., 2., 2., 2., 2., 2., 2.,\n",
      "       2., 2., 2., 2., 2., 2., 2., 2., 2., 2., 2., 2., 2., 2., 2., 2., 2.,\n",
      "       2., 2., 2., 2., 2., 2., 2., 2., 2., 2., 2., 2., 2., 2., 2., 2., 2.,\n",
      "       2., 2., 2., 2., 2., 2., 2., 2.]), array([3., 3., 3., 3., 3., 3., 3., 3., 3., 3., 3., 3., 3., 3., 3., 3., 3.,\n",
      "       3., 3., 3., 3., 3., 3., 3., 3., 3., 3., 3., 3., 3., 3., 3., 3., 3.,\n",
      "       3., 3., 3., 3., 3., 3., 3., 3., 3., 3., 3., 3., 3., 3., 3., 3., 3.,\n",
      "       3., 3., 3., 3., 3., 3., 3., 3., 3., 3., 3., 3., 3., 3.]), array([4., 4., 4., 4., 4., 4., 4., 4., 4., 4., 4., 4., 4., 4., 4., 4., 4.,\n",
      "       4., 4., 4., 4., 4., 4., 4., 4., 4., 4., 4., 4., 4., 4., 4., 4., 4.,\n",
      "       4., 4., 4., 4., 4., 4., 4., 4., 4., 4., 4., 4., 4., 4., 4., 4., 4.,\n",
      "       4., 4., 4., 4., 4., 4., 4., 4., 4., 4., 4.]), array([5., 5., 5., 5., 5., 5., 5., 5., 5., 5., 5., 5., 5., 5., 5., 5., 5.,\n",
      "       5., 5., 5., 5., 5., 5., 5., 5., 5., 5., 5., 5., 5., 5., 5., 5., 5.,\n",
      "       5., 5., 5., 5., 5., 5., 5., 5., 5., 5., 5., 5., 5., 5., 5., 5., 5.,\n",
      "       5., 5., 5., 5., 5., 5., 5., 5., 5., 5., 5., 5., 5., 5.]), array([6., 6., 6., 6., 6., 6., 6., 6., 6., 6., 6., 6., 6., 6., 6., 6., 6.,\n",
      "       6., 6., 6., 6., 6., 6., 6., 6., 6., 6., 6., 6., 6., 6., 6., 6., 6.,\n",
      "       6., 6., 6., 6., 6., 6., 6., 6., 6., 6.]), array([7., 7., 7., 7., 7., 7., 7., 7., 7., 7., 7., 7., 7., 7., 7., 7., 7.,\n",
      "       7., 7., 7., 7., 7., 7., 7., 7., 7., 7., 7., 7., 7., 7., 7., 7., 7.,\n",
      "       7., 7., 7., 7., 7., 7., 7., 7., 7., 7., 7., 7., 7., 7., 7., 7., 7.,\n",
      "       7., 7., 7., 7., 7., 7., 7., 7., 7., 7., 7.]), array([8., 8., 8., 8., 8., 8., 8., 8., 8., 8., 8., 8., 8., 8., 8., 8., 8.,\n",
      "       8., 8., 8., 8., 8., 8., 8., 8., 8., 8., 8., 8., 8., 8., 8., 8., 8.,\n",
      "       8., 8., 8., 8., 8., 8., 8.]), array([9., 9., 9., 9., 9., 9., 9., 9., 9., 9., 9., 9., 9., 9., 9., 9., 9.,\n",
      "       9., 9., 9., 9., 9., 9., 9., 9., 9., 9., 9., 9., 9., 9., 9., 9., 9.,\n",
      "       9., 9., 9., 9., 9., 9., 9., 9., 9., 9., 9., 9., 9., 9., 9., 9., 9.,\n",
      "       9., 9., 9., 9., 9., 9., 9., 9., 9., 9., 9.]), array([10., 10., 10., 10., 10., 10., 10., 10., 10., 10., 10., 10., 10.,\n",
      "       10., 10., 10., 10., 10., 10., 10., 10., 10., 10., 10., 10., 10.,\n",
      "       10., 10., 10., 10., 10., 10., 10., 10., 10., 10., 10., 10., 10.,\n",
      "       10., 10., 10., 10., 10., 10., 10., 10., 10., 10., 10.]), array([11., 11., 11., 11., 11., 11., 11., 11., 11., 11., 11., 11., 11.,\n",
      "       11., 11., 11., 11., 11., 11., 11., 11., 11., 11., 11., 11., 11.,\n",
      "       11., 11., 11., 11., 11., 11., 11., 11., 11., 11., 11., 11., 11.,\n",
      "       11., 11., 11., 11., 11., 11., 11., 11., 11., 11., 11., 11., 11.,\n",
      "       11., 11., 11., 11., 11., 11., 11., 11., 11., 11., 11., 11., 11.]), array([12., 12., 12., 12., 12., 12., 12., 12., 12., 12., 12., 12., 12.,\n",
      "       12., 12., 12., 12., 12., 12., 12., 12., 12., 12., 12., 12., 12.,\n",
      "       12., 12., 12., 12., 12., 12., 12., 12., 12., 12., 12., 12., 12.,\n",
      "       12., 12., 12., 12., 12., 12., 12., 12., 12., 12., 12.]), array([13., 13., 13., 13., 13., 13., 13., 13., 13., 13., 13., 13., 13.,\n",
      "       13., 13., 13., 13., 13., 13., 13., 13., 13., 13., 13., 13., 13.,\n",
      "       13., 13., 13., 13., 13., 13., 13., 13., 13., 13., 13., 13., 13.,\n",
      "       13., 13., 13., 13., 13., 13., 13., 13., 13., 13., 13., 13., 13.,\n",
      "       13., 13., 13., 13., 13., 13., 13., 13., 13., 13., 13., 13., 13.,\n",
      "       13., 13., 13.]), array([14., 14., 14., 14., 14., 14., 14., 14., 14., 14., 14., 14., 14.,\n",
      "       14., 14., 14., 14., 14., 14., 14., 14., 14., 14., 14., 14., 14.,\n",
      "       14., 14., 14., 14., 14., 14., 14., 14., 14., 14., 14., 14., 14.,\n",
      "       14., 14., 14., 14., 14., 14., 14., 14., 14., 14., 14., 14.]), array([15., 15., 15., 15., 15., 15., 15., 15., 15., 15., 15., 15., 15.,\n",
      "       15., 15., 15., 15., 15., 15., 15., 15., 15., 15., 15., 15., 15.,\n",
      "       15., 15., 15., 15., 15., 15., 15., 15., 15., 15., 15., 15., 15.,\n",
      "       15., 15., 15., 15., 15., 15., 15., 15., 15., 15., 15., 15., 15.,\n",
      "       15., 15., 15., 15., 15., 15., 15., 15., 15., 15., 15., 15., 15.,\n",
      "       15.]), array([16., 16., 16., 16., 16., 16., 16., 16., 16., 16., 16., 16., 16.,\n",
      "       16., 16., 16., 16., 16., 16., 16., 16., 16., 16., 16., 16., 16.,\n",
      "       16., 16., 16., 16., 16., 16., 16., 16., 16., 16., 16., 16., 16.,\n",
      "       16., 16., 16., 16., 16., 16., 16., 16., 16., 16., 16., 16., 16.]), array([17., 17., 17., 17., 17., 17., 17., 17., 17., 17., 17., 17., 17.,\n",
      "       17., 17., 17., 17., 17., 17., 17., 17., 17., 17., 17., 17., 17.,\n",
      "       17., 17., 17., 17., 17., 17., 17., 17., 17., 17., 17., 17., 17.,\n",
      "       17., 17., 17., 17., 17., 17., 17., 17., 17., 17., 17., 17., 17.,\n",
      "       17., 17., 17., 17., 17., 17., 17.]), array([18., 18., 18., 18., 18., 18., 18., 18., 18., 18., 18., 18., 18.,\n",
      "       18., 18., 18., 18., 18., 18., 18., 18., 18., 18., 18., 18., 18.,\n",
      "       18., 18., 18., 18., 18., 18., 18., 18., 18., 18., 18., 18., 18.,\n",
      "       18., 18., 18., 18., 18., 18., 18., 18., 18., 18.]), array([19., 19., 19., 19., 19., 19., 19., 19., 19., 19., 19., 19., 19.,\n",
      "       19., 19., 19., 19., 19., 19., 19., 19., 19., 19., 19., 19., 19.,\n",
      "       19., 19., 19., 19., 19., 19., 19., 19., 19., 19., 19., 19., 19.,\n",
      "       19., 19., 19., 19., 19., 19., 19., 19., 19., 19., 19., 19., 19.,\n",
      "       19., 19., 19., 19., 19., 19., 19., 19., 19., 19., 19., 19., 19.]), array([20., 20., 20., 20., 20., 20., 20., 20., 20., 20., 20., 20., 20.,\n",
      "       20., 20., 20., 20., 20., 20., 20., 20., 20., 20., 20., 20., 20.,\n",
      "       20., 20., 20., 20., 20., 20., 20., 20., 20., 20., 20., 20., 20.,\n",
      "       20., 20., 20., 20., 20., 20., 20., 20., 20., 20., 20., 20., 20.,\n",
      "       20., 20., 20., 20., 20., 20., 20.]), array([21., 21., 21., 21., 21., 21., 21., 21., 21., 21., 21., 21., 21.,\n",
      "       21., 21., 21., 21., 21., 21., 21., 21., 21., 21., 21., 21., 21.,\n",
      "       21., 21., 21., 21., 21., 21., 21., 21., 21., 21., 21., 21., 21.,\n",
      "       21., 21., 21., 21., 21., 21., 21., 21., 21., 21., 21., 21., 21.,\n",
      "       21., 21., 21., 21., 21., 21., 21.])]\n",
      "62\n",
      "65\n",
      "59\n",
      "65\n",
      "62\n",
      "65\n",
      "44\n",
      "62\n",
      "41\n",
      "62\n",
      "50\n",
      "65\n",
      "50\n",
      "68\n",
      "51\n",
      "66\n",
      "52\n",
      "59\n",
      "49\n",
      "65\n",
      "59\n",
      "59\n"
     ]
    }
   ],
   "source": [
    "# Check ground truth Y vector\n",
    "print(y)\n",
    "for item in y:\n",
    "    print(len(item))"
   ]
  },
  {
   "cell_type": "code",
   "execution_count": 9,
   "metadata": {},
   "outputs": [],
   "source": [
    "# Flatten filename and y vectors\n",
    "filenames = [item for sublist in filenames for item in sublist]\n",
    "y = [item for sublist in y for item in sublist]"
   ]
  },
  {
   "cell_type": "code",
   "execution_count": 10,
   "metadata": {},
   "outputs": [],
   "source": [
    "# Associate filenames with true output and shuffle\n",
    "filenames_y = list(zip(filenames, y))\n",
    "random.shuffle(filenames_y)\n",
    "filenames, y = zip(*filenames_y)"
   ]
  },
  {
   "cell_type": "code",
   "execution_count": 11,
   "metadata": {},
   "outputs": [
    {
     "name": "stdout",
     "output_type": "stream",
     "text": [
      "1280\n",
      "1280\n"
     ]
    }
   ],
   "source": [
    "# Only keep the specified number of samples (shorter extraction/training)\n",
    "print(len(filenames))\n",
    "filenames = filenames[:int(len(filenames) * perc_keep_samples)]\n",
    "print(len(filenames))"
   ]
  },
  {
   "cell_type": "code",
   "execution_count": 12,
   "metadata": {},
   "outputs": [],
   "source": [
    "# Calculate validation and test set sizes\n",
    "val_set_size = int(len(filenames) * val_ratio)\n",
    "test_set_size = int(len(filenames) * test_ratio)"
   ]
  },
  {
   "cell_type": "code",
   "execution_count": 13,
   "metadata": {},
   "outputs": [],
   "source": [
    "# Break dataset apart into train, validation, and test sets\n",
    "filenames_val = filenames[:val_set_size]\n",
    "filenames_test = filenames[val_set_size:(val_set_size + test_set_size)]\n",
    "filenames_train = filenames[(val_set_size + test_set_size):]"
   ]
  },
  {
   "cell_type": "code",
   "execution_count": 14,
   "metadata": {},
   "outputs": [],
   "source": [
    "# Break y apart into train, validation, and test sets\n",
    "y_orig_val = y[:val_set_size]\n",
    "y_orig_test = y[val_set_size:(val_set_size + test_set_size)]\n",
    "y_orig_train = y[(val_set_size + test_set_size):]"
   ]
  },
  {
   "cell_type": "code",
   "execution_count": 15,
   "metadata": {},
   "outputs": [],
   "source": [
    "# Function: Create MFCC from given path\n",
    "def calc_mfcc(path):\n",
    "    \n",
    "    # Load wavefile\n",
    "    signal, fs = librosa.load(path, sr=sample_rate)\n",
    "    \n",
    "    # Create MFCCs from sound clip\n",
    "    mfccs = python_speech_features.base.mfcc(signal, \n",
    "                                            samplerate=fs,\n",
    "                                            winlen=0.256,\n",
    "                                            winstep=0.050,\n",
    "                                            numcep=num_mfcc,\n",
    "                                            nfilt=26,\n",
    "                                            nfft=11290,\n",
    "                                            preemph=0.0,\n",
    "                                            ceplifter=0,\n",
    "                                            appendEnergy=False,\n",
    "                                            winfunc=np.hanning)\n",
    "    return mfccs.transpose()"
   ]
  },
  {
   "cell_type": "code",
   "execution_count": 16,
   "metadata": {},
   "outputs": [],
   "source": [
    "# TEST: Construct test set by computing MFCC of each WAV file\n",
    "prob_cnt = 0\n",
    "x_test = []\n",
    "y_test = []\n",
    "for index, filename in enumerate(filenames_train):\n",
    "    \n",
    "    # Stop after 500\n",
    "    if index >= 500:\n",
    "        break\n",
    "    \n",
    "    # Create path from given filename and target item\n",
    "    path = join(dataset_path, target_list[int(y_orig_train[index])], \n",
    "                filename)\n",
    "    \n",
    "    # Create MFCCs\n",
    "    mfccs = calc_mfcc(path)\n",
    "    \n",
    "    if mfccs.shape[1] == len_mfcc:\n",
    "        x_test.append(mfccs)\n",
    "        y_test.append(y_orig_train[index])\n",
    "    else:\n",
    "        print('Dropped:', index, mfccs.shape)\n",
    "        prob_cnt += 1\n",
    "        "
   ]
  },
  {
   "cell_type": "code",
   "execution_count": 17,
   "metadata": {},
   "outputs": [
    {
     "name": "stdout",
     "output_type": "stream",
     "text": [
      "% of problematic samples: 0.0\n"
     ]
    }
   ],
   "source": [
    "print('% of problematic samples:', prob_cnt / 500)"
   ]
  },
  {
   "cell_type": "code",
   "execution_count": 18,
   "metadata": {},
   "outputs": [
    {
     "name": "stdout",
     "output_type": "stream",
     "text": [
      "MFCCs: [[-5.70404337e+01 -5.53667907e+01 -5.47688449e+01 -5.44123922e+01\n",
      "  -5.38066928e+01 -5.26556377e+01 -5.14462124e+01 -5.05469491e+01\n",
      "  -5.01859201e+01 -4.99598414e+01 -4.94715655e+01 -4.88608358e+01\n",
      "  -4.83494397e+01 -4.79724290e+01 -4.76754222e+01 -4.75273117e+01]\n",
      " [ 2.41075803e+01  2.44084846e+01  2.42052507e+01  2.38519034e+01\n",
      "   2.36653412e+01  2.38100869e+01  2.39527701e+01  2.39468060e+01\n",
      "   2.40948189e+01  2.43889078e+01  2.44955230e+01  2.45377212e+01\n",
      "   2.46460581e+01  2.46902339e+01  2.46181345e+01  2.46350781e+01]\n",
      " [ 1.44443963e+00  4.16233853e-01  1.48573807e-01  1.44748177e-01\n",
      "  -3.01673933e-02 -8.06765301e-01 -1.53446080e+00 -1.85316040e+00\n",
      "  -1.88913210e+00 -1.70841890e+00 -1.56980235e+00 -1.75166972e+00\n",
      "  -1.93936891e+00 -1.99660127e+00 -2.07488374e+00 -2.16176441e+00]\n",
      " [-3.61197975e+00 -3.91782768e+00 -3.64458181e+00 -2.99475375e+00\n",
      "  -2.61750052e+00 -2.94593244e+00 -3.28365115e+00 -3.38763350e+00\n",
      "  -3.56426752e+00 -3.90712222e+00 -4.11892082e+00 -4.17992200e+00\n",
      "  -4.30527398e+00 -4.46718534e+00 -4.41766668e+00 -4.35338936e+00]\n",
      " [-5.59024753e-01 -5.90702436e-01 -6.36632370e-01 -7.33361434e-01\n",
      "  -6.11137337e-01  3.35992951e-02  3.24458502e-01  1.51848875e-01\n",
      "   1.02088521e-01 -2.53204313e-01 -8.47008813e-01 -1.14496959e+00\n",
      "  -1.30417988e+00 -1.41726608e+00 -1.50603401e+00 -1.47217047e+00]\n",
      " [ 7.03709396e-01  7.09540846e-01  3.91232068e-01 -3.87112443e-02\n",
      "  -1.48055225e-01  2.28322298e-01  8.91552598e-01  1.69587796e+00\n",
      "   1.97196887e+00  1.78348799e+00  1.65330493e+00  1.58820090e+00\n",
      "   1.61522910e+00  1.61507265e+00  1.44274755e+00  1.28455237e+00]\n",
      " [ 2.00380683e+00  1.72706914e+00  1.57298090e+00  1.41976267e+00\n",
      "   9.06517914e-01  2.07401590e-01 -4.16197247e-02 -4.34632042e-02\n",
      "   1.11405165e-01  4.50333804e-01  6.42592420e-01  5.99104422e-01\n",
      "   5.33455038e-01  4.81067079e-01  4.34791135e-01  2.89293908e-01]\n",
      " [ 2.97701963e+00  3.10236850e+00  3.22750644e+00  3.10061420e+00\n",
      "   2.89898166e+00  2.61284803e+00  1.90013739e+00  9.59872004e-01\n",
      "   5.05415638e-01  6.81650201e-01  9.21971618e-01  1.04858152e+00\n",
      "   1.06503596e+00  1.03650975e+00  1.08827746e+00  1.21060237e+00]\n",
      " [ 2.62329385e+00  3.02366650e+00  3.11239809e+00  3.05818470e+00\n",
      "   3.16238026e+00  3.11630327e+00  2.74844519e+00  2.26303371e+00\n",
      "   1.56652413e+00  1.08737337e+00  1.10491023e+00  1.29585282e+00\n",
      "   1.38340841e+00  1.50409664e+00  1.74754591e+00  1.93332212e+00]\n",
      " [ 5.81033696e-01  6.83491337e-01  8.96366766e-01  1.19455279e+00\n",
      "   1.13968978e+00  8.55029700e-01  7.92348973e-01  7.93391245e-01\n",
      "   7.36947266e-01  6.01248834e-01  4.61506681e-01  4.49497208e-01\n",
      "   5.88062182e-01  7.50885252e-01  7.91737155e-01  8.26732070e-01]\n",
      " [-6.92801158e-01 -7.73086843e-01 -7.53642916e-01 -5.77074943e-01\n",
      "  -4.51835169e-01 -4.06591005e-01 -3.03187742e-01 -2.07852652e-02\n",
      "   4.98047673e-01  8.91151969e-01  9.28298579e-01  8.37275593e-01\n",
      "   7.30144523e-01  6.52992476e-01  6.17659030e-01  5.49633423e-01]\n",
      " [-9.19649473e-01 -9.30574150e-01 -1.00402499e+00 -1.18093539e+00\n",
      "  -1.09218021e+00 -5.58374210e-01  5.99547322e-02  5.77549463e-01\n",
      "   1.02691758e+00  1.39714199e+00  1.67799917e+00  1.76571548e+00\n",
      "   1.76621882e+00  1.72399200e+00  1.69080352e+00  1.58865798e+00]\n",
      " [-3.21201325e-01 -1.91233109e-01 -7.30098801e-02 -5.68878464e-02\n",
      "   6.49328610e-02  4.97417104e-01  1.07630725e+00  1.71858351e+00\n",
      "   2.02256415e+00  1.86532415e+00  1.79522778e+00  1.98190951e+00\n",
      "   2.11472915e+00  2.19766714e+00  2.32515935e+00  2.44906298e+00]\n",
      " [ 3.61831891e-01  4.13452737e-01  6.18270202e-01  1.05544537e+00\n",
      "   1.38988473e+00  1.42282803e+00  1.37310290e+00  1.42400077e+00\n",
      "   1.54036037e+00  1.55034349e+00  1.48673411e+00  1.46932502e+00\n",
      "   1.53348989e+00  1.70373270e+00  1.83559173e+00  1.91795683e+00]\n",
      " [ 8.82421054e-02  6.95758819e-02  6.59518797e-02  2.84851552e-01\n",
      "   5.08693601e-01  3.20482476e-01 -3.75683400e-02 -5.03577079e-01\n",
      "  -6.72668575e-01 -3.39825938e-01 -1.84264286e-01 -2.24850288e-01\n",
      "  -1.00259215e-01  5.44117733e-02  6.10093200e-02  2.32739763e-02]\n",
      " [-1.84956408e-01 -1.21401133e-01 -1.81978743e-02 -1.03971242e-01\n",
      "  -3.42326506e-01 -5.31239975e-01 -7.75374907e-01 -1.06691783e+00\n",
      "  -1.34442824e+00 -1.34756573e+00 -1.02442885e+00 -7.70805274e-01\n",
      "  -8.03994279e-01 -9.62975603e-01 -9.74656290e-01 -1.00255910e+00]]\n",
      "E3\n"
     ]
    },
    {
     "data": {
      "image/png": "[encoded data removed]",
      "text/plain": [
       "<Figure size 432x288 with 1 Axes>"
      ]
     },
     "metadata": {
      "needs_background": "light"
     },
     "output_type": "display_data"
    }
   ],
   "source": [
    "# TEST: Test shorter MFCC\n",
    "# !pip install playsound\n",
    "from playsound import playsound\n",
    "\n",
    "idx = 13\n",
    "\n",
    "# Create path from given filename and target item\n",
    "path = join(dataset_path, target_list[int(y_orig_train[idx])], \n",
    "            filenames_train[idx])\n",
    "\n",
    "# Create MFCCs\n",
    "mfccs = calc_mfcc(path)\n",
    "print(\"MFCCs:\", mfccs)\n",
    "\n",
    "# Plot MFCC\n",
    "fig = plt.figure()\n",
    "plt.imshow(mfccs, cmap='inferno', origin='lower')\n",
    "\n",
    "# TEST: Play problem sounds\n",
    "print(target_list[int(y_orig_train[idx])])\n",
    "playsound(path)"
   ]
  },
  {
   "cell_type": "code",
   "execution_count": 19,
   "metadata": {},
   "outputs": [],
   "source": [
    "# Function: Create MFCCs, keeping only ones of desired length\n",
    "def extract_features(in_files, in_y):\n",
    "    prob_cnt = 0\n",
    "    out_x = []\n",
    "    out_y = []\n",
    "        \n",
    "    for index, filename in enumerate(in_files):\n",
    "    \n",
    "        # Create path from given filename and target item\n",
    "        path = join(dataset_path, target_list[int(in_y[index])], \n",
    "                    filename)\n",
    "        \n",
    "        # Check to make sure we're reading a .wav file\n",
    "        if not path.endswith('.wav'):\n",
    "            continue\n",
    "\n",
    "        # Create MFCCs\n",
    "        mfccs = calc_mfcc(path)\n",
    "\n",
    "        # Only keep MFCCs with given length\n",
    "        if mfccs.shape[1] == len_mfcc:\n",
    "            out_x.append(mfccs)\n",
    "            out_y.append(in_y[index])\n",
    "        else:\n",
    "            print('Dropped:', index, mfccs.shape)\n",
    "            prob_cnt += 1\n",
    "            \n",
    "    return out_x, out_y, prob_cnt"
   ]
  },
  {
   "cell_type": "code",
   "execution_count": 20,
   "metadata": {},
   "outputs": [
    {
     "name": "stdout",
     "output_type": "stream",
     "text": [
      "Removed percentage: 0.0\n",
      "Removed percentage: 0.0\n",
      "Removed percentage: 0.0\n"
     ]
    }
   ],
   "source": [
    "# Create train, validation, and test sets\n",
    "x_train, y_train, prob = extract_features(filenames_train, \n",
    "                                          y_orig_train)\n",
    "print('Removed percentage:', prob / len(y_orig_train))\n",
    "x_val, y_val, prob = extract_features(filenames_val, y_orig_val)\n",
    "print('Removed percentage:', prob / len(y_orig_val))\n",
    "x_test, y_test, prob = extract_features(filenames_test, y_orig_test)\n",
    "print('Removed percentage:', prob / len(y_orig_test))"
   ]
  },
  {
   "cell_type": "code",
   "execution_count": 21,
   "metadata": {},
   "outputs": [],
   "source": [
    "# Save features and truth vector (y) sets to disk\n",
    "np.savez(feature_sets_file, \n",
    "         x_train=x_train, \n",
    "         y_train=y_train, \n",
    "         x_val=x_val, \n",
    "         y_val=y_val, \n",
    "         x_test=x_test, \n",
    "         y_test=y_test)"
   ]
  },
  {
   "cell_type": "code",
   "execution_count": 22,
   "metadata": {},
   "outputs": [
    {
     "data": {
      "text/plain": [
       "['x_train', 'y_train', 'x_val', 'y_val', 'x_test', 'y_test']"
      ]
     },
     "execution_count": 22,
     "metadata": {},
     "output_type": "execute_result"
    }
   ],
   "source": [
    "# TEST: Load features\n",
    "feature_sets = np.load(feature_sets_file)\n",
    "feature_sets.files"
   ]
  },
  {
   "cell_type": "code",
   "execution_count": 23,
   "metadata": {},
   "outputs": [
    {
     "data": {
      "text/plain": [
       "1024"
      ]
     },
     "execution_count": 23,
     "metadata": {},
     "output_type": "execute_result"
    }
   ],
   "source": [
    "len(feature_sets['x_train'])"
   ]
  },
  {
   "cell_type": "code",
   "execution_count": 24,
   "metadata": {},
   "outputs": [
    {
     "name": "stdout",
     "output_type": "stream",
     "text": [
      "[ 9.  9.  5. 21.  6. 17.  4.  3. 15. 18. 20.  2.  2. 17.  0. 12. 16. 21.\n",
      " 17.  3. 20. 10. 18. 10.  5. 11.  1. 19. 12. 20.  4. 13.  6.  7. 13. 21.\n",
      "  6. 18.  4.  5. 21.  9.  8. 18. 11.  1. 21. 19. 14.  2.  1.  8. 20.  0.\n",
      "  9. 10.  9. 21.  0. 18. 19.  0. 15. 15.  7.  9.  9.  3. 15.  2.  2.  4.\n",
      "  1.  7. 19. 17. 18.  3.  7.  2. 20. 18.  9. 11.  6.  2.  5.  0. 11.  7.\n",
      "  4.  7. 12. 14.  5. 11.  6.  9.  4.  1. 15.  1.  5. 11.  0.  2. 18. 21.\n",
      "  0.  4. 19. 17. 10.  8. 11. 20. 13.  3.  8. 15. 10. 16. 16. 15. 12. 16.\n",
      "  6.  5.]\n"
     ]
    }
   ],
   "source": [
    "print(feature_sets['y_val'])"
   ]
  },
  {
   "cell_type": "code",
   "execution_count": null,
   "metadata": {},
   "outputs": [],
   "source": []
  },
  {
   "cell_type": "code",
   "execution_count": null,
   "metadata": {},
   "outputs": [],
   "source": []
  }
 ],
 "metadata": {
  "kernelspec": {
   "display_name": "Python 3 (ipykernel)",
   "language": "python",
   "name": "python3"
  },
  "language_info": {
   "codemirror_mode": {
    "name": "ipython",
    "version": 3
   },
   "file_extension": ".py",
   "mimetype": "text/x-python",
   "name": "python",
   "nbconvert_exporter": "python",
   "pygments_lexer": "ipython3",
   "version": "3.9.12"
  }
 },
 "nbformat": 4,
 "nbformat_minor": 4
}
