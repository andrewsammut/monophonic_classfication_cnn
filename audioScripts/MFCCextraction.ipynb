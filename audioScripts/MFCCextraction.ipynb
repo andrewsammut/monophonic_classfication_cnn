{
 "cells": [
  {
   "cell_type": "code",
   "execution_count": 1,
   "metadata": {
    "tags": []
   },
   "outputs": [],
   "source": [
    "from os import listdir\n",
    "from os.path import isdir, join\n",
    "import librosa\n",
    "import random\n",
    "import numpy as np\n",
    "import matplotlib.pyplot as plt\n",
    "import python_speech_features"
   ]
  },
  {
   "cell_type": "code",
   "execution_count": 2,
   "metadata": {},
   "outputs": [
    {
     "name": "stdout",
     "output_type": "stream",
     "text": [
      "A#3\n",
      "A#4\n",
      "A3\n",
      "A4\n",
      "B3\n",
      "B4\n",
      "C#3\n",
      "C#4\n",
      "C3\n",
      "C4\n",
      "D#3\n",
      "D#4\n",
      "D3\n",
      "D4\n",
      "E3\n",
      "E4\n",
      "F#3\n",
      "F#4\n",
      "F3\n",
      "F4\n",
      "G3\n",
      "G4\n",
      "_background_noise_\n"
     ]
    }
   ],
   "source": [
    "# Dataset path and view possible targets\n",
    "dataset_path = 'C:\\\\Users\\Greg\\ML\\Technical\\project\\git2\\monophonic_classfication_cnn\\padded'\n",
    "for name in listdir(dataset_path):\n",
    "    if isdir(join(dataset_path, name)):\n",
    "        print(name)"
   ]
  },
  {
   "cell_type": "code",
   "execution_count": 3,
   "metadata": {},
   "outputs": [
    {
     "name": "stdout",
     "output_type": "stream",
     "text": [
      "['A#3', 'A#4', 'A3', 'A4', 'B3', 'B4', 'C#3', 'C#4', 'C3', 'C4', 'D#3', 'D#4', 'D3', 'D4', 'E3', 'E4', 'F#3', 'F#4', 'F3', 'F4', 'G3', 'G4', '_background_noise_']\n"
     ]
    }
   ],
   "source": [
    "# Create an all targets list\n",
    "all_targets = [name for name in listdir(dataset_path) if isdir(join(dataset_path, name))]\n",
    "print(all_targets)\n",
    "train_target = ['A3', 'A#3', 'B3', 'C3', 'C#3','D3', 'D#3', 'E3', 'F3', 'F#3','G3','A4']"
   ]
  },
  {
   "cell_type": "code",
   "execution_count": 4,
   "metadata": {},
   "outputs": [
    {
     "name": "stdout",
     "output_type": "stream",
     "text": [
      "['A#3', 'A#4', 'A3', 'A4', 'B3', 'B4', 'C#3', 'C#4', 'C3', 'C4', 'D#3', 'D#4', 'D3', 'D4', 'E3', 'E4', 'F#3', 'F#4', 'F3', 'F4', 'G3', 'G4']\n",
      "['A3', 'A#3', 'B3', 'C3', 'C#3', 'D3', 'D#3', 'E3', 'F3', 'F#3', 'G3', 'A4']\n"
     ]
    }
   ],
   "source": [
    "# Leave off background noise set\n",
    "all_targets.remove('_background_noise_')\n",
    "print(all_targets)\n",
    "print(train_target)"
   ]
  },
  {
   "cell_type": "code",
   "execution_count": 5,
   "metadata": {},
   "outputs": [
    {
     "name": "stdout",
     "output_type": "stream",
     "text": [
      "59\n",
      "62\n",
      "62\n",
      "41\n",
      "44\n",
      "50\n",
      "50\n",
      "51\n",
      "49\n",
      "52\n",
      "59\n",
      "65\n",
      "Total samples: 644\n"
     ]
    }
   ],
   "source": [
    "# See how many files are in each\n",
    "num_samples = 0\n",
    "for target in train_target:\n",
    "    print(len(listdir(join(dataset_path, target))))\n",
    "    num_samples += len(listdir(join(dataset_path, target)))\n",
    "print('Total samples:', num_samples)"
   ]
  },
  {
   "cell_type": "code",
   "execution_count": 6,
   "metadata": {},
   "outputs": [],
   "source": [
    "# Settings\n",
    "target_list = train_target\n",
    "feature_sets_file = 'all_targets_mfcc_sets.npz'\n",
    "perc_keep_samples = 1.0 # 1.0 is keep all samples\n",
    "val_ratio = 0.1\n",
    "test_ratio = 0.1\n",
    "sample_rate = 44100\n",
    "num_mfcc = 16\n",
    "len_mfcc = 16"
   ]
  },
  {
   "cell_type": "code",
   "execution_count": 7,
   "metadata": {},
   "outputs": [],
   "source": [
    "# Create list of filenames along with ground truth vector (y)\n",
    "filenames = []\n",
    "y = []\n",
    "for index, target in enumerate(target_list):\n",
    "    #print(join(dataset_path, target))\n",
    "    filenames.append(listdir(join(dataset_path, target)))\n",
    "    y.append(np.ones(len(filenames[index])) * index)"
   ]
  },
  {
   "cell_type": "code",
   "execution_count": 8,
   "metadata": {},
   "outputs": [
    {
     "name": "stdout",
     "output_type": "stream",
     "text": [
      "[array([0., 0., 0., 0., 0., 0., 0., 0., 0., 0., 0., 0., 0., 0., 0., 0., 0.,\n",
      "       0., 0., 0., 0., 0., 0., 0., 0., 0., 0., 0., 0., 0., 0., 0., 0., 0.,\n",
      "       0., 0., 0., 0., 0., 0., 0., 0., 0., 0., 0., 0., 0., 0., 0., 0., 0.,\n",
      "       0., 0., 0., 0., 0., 0., 0., 0.]), array([1., 1., 1., 1., 1., 1., 1., 1., 1., 1., 1., 1., 1., 1., 1., 1., 1.,\n",
      "       1., 1., 1., 1., 1., 1., 1., 1., 1., 1., 1., 1., 1., 1., 1., 1., 1.,\n",
      "       1., 1., 1., 1., 1., 1., 1., 1., 1., 1., 1., 1., 1., 1., 1., 1., 1.,\n",
      "       1., 1., 1., 1., 1., 1., 1., 1., 1., 1., 1.]), array([2., 2., 2., 2., 2., 2., 2., 2., 2., 2., 2., 2., 2., 2., 2., 2., 2.,\n",
      "       2., 2., 2., 2., 2., 2., 2., 2., 2., 2., 2., 2., 2., 2., 2., 2., 2.,\n",
      "       2., 2., 2., 2., 2., 2., 2., 2., 2., 2., 2., 2., 2., 2., 2., 2., 2.,\n",
      "       2., 2., 2., 2., 2., 2., 2., 2., 2., 2., 2.]), array([3., 3., 3., 3., 3., 3., 3., 3., 3., 3., 3., 3., 3., 3., 3., 3., 3.,\n",
      "       3., 3., 3., 3., 3., 3., 3., 3., 3., 3., 3., 3., 3., 3., 3., 3., 3.,\n",
      "       3., 3., 3., 3., 3., 3., 3.]), array([4., 4., 4., 4., 4., 4., 4., 4., 4., 4., 4., 4., 4., 4., 4., 4., 4.,\n",
      "       4., 4., 4., 4., 4., 4., 4., 4., 4., 4., 4., 4., 4., 4., 4., 4., 4.,\n",
      "       4., 4., 4., 4., 4., 4., 4., 4., 4., 4.]), array([5., 5., 5., 5., 5., 5., 5., 5., 5., 5., 5., 5., 5., 5., 5., 5., 5.,\n",
      "       5., 5., 5., 5., 5., 5., 5., 5., 5., 5., 5., 5., 5., 5., 5., 5., 5.,\n",
      "       5., 5., 5., 5., 5., 5., 5., 5., 5., 5., 5., 5., 5., 5., 5., 5.]), array([6., 6., 6., 6., 6., 6., 6., 6., 6., 6., 6., 6., 6., 6., 6., 6., 6.,\n",
      "       6., 6., 6., 6., 6., 6., 6., 6., 6., 6., 6., 6., 6., 6., 6., 6., 6.,\n",
      "       6., 6., 6., 6., 6., 6., 6., 6., 6., 6., 6., 6., 6., 6., 6., 6.]), array([7., 7., 7., 7., 7., 7., 7., 7., 7., 7., 7., 7., 7., 7., 7., 7., 7.,\n",
      "       7., 7., 7., 7., 7., 7., 7., 7., 7., 7., 7., 7., 7., 7., 7., 7., 7.,\n",
      "       7., 7., 7., 7., 7., 7., 7., 7., 7., 7., 7., 7., 7., 7., 7., 7., 7.]), array([8., 8., 8., 8., 8., 8., 8., 8., 8., 8., 8., 8., 8., 8., 8., 8., 8.,\n",
      "       8., 8., 8., 8., 8., 8., 8., 8., 8., 8., 8., 8., 8., 8., 8., 8., 8.,\n",
      "       8., 8., 8., 8., 8., 8., 8., 8., 8., 8., 8., 8., 8., 8., 8.]), array([9., 9., 9., 9., 9., 9., 9., 9., 9., 9., 9., 9., 9., 9., 9., 9., 9.,\n",
      "       9., 9., 9., 9., 9., 9., 9., 9., 9., 9., 9., 9., 9., 9., 9., 9., 9.,\n",
      "       9., 9., 9., 9., 9., 9., 9., 9., 9., 9., 9., 9., 9., 9., 9., 9., 9.,\n",
      "       9.]), array([10., 10., 10., 10., 10., 10., 10., 10., 10., 10., 10., 10., 10.,\n",
      "       10., 10., 10., 10., 10., 10., 10., 10., 10., 10., 10., 10., 10.,\n",
      "       10., 10., 10., 10., 10., 10., 10., 10., 10., 10., 10., 10., 10.,\n",
      "       10., 10., 10., 10., 10., 10., 10., 10., 10., 10., 10., 10., 10.,\n",
      "       10., 10., 10., 10., 10., 10., 10.]), array([11., 11., 11., 11., 11., 11., 11., 11., 11., 11., 11., 11., 11.,\n",
      "       11., 11., 11., 11., 11., 11., 11., 11., 11., 11., 11., 11., 11.,\n",
      "       11., 11., 11., 11., 11., 11., 11., 11., 11., 11., 11., 11., 11.,\n",
      "       11., 11., 11., 11., 11., 11., 11., 11., 11., 11., 11., 11., 11.,\n",
      "       11., 11., 11., 11., 11., 11., 11., 11., 11., 11., 11., 11., 11.])]\n",
      "59\n",
      "62\n",
      "62\n",
      "41\n",
      "44\n",
      "50\n",
      "50\n",
      "51\n",
      "49\n",
      "52\n",
      "59\n",
      "65\n"
     ]
    }
   ],
   "source": [
    "# Check ground truth Y vector\n",
    "print(y)\n",
    "for item in y:\n",
    "    print(len(item))"
   ]
  },
  {
   "cell_type": "code",
   "execution_count": 9,
   "metadata": {},
   "outputs": [],
   "source": [
    "# Flatten filename and y vectors\n",
    "filenames = [item for sublist in filenames for item in sublist]\n",
    "y = [item for sublist in y for item in sublist]"
   ]
  },
  {
   "cell_type": "code",
   "execution_count": 10,
   "metadata": {},
   "outputs": [],
   "source": [
    "# Associate filenames with true output and shuffle\n",
    "filenames_y = list(zip(filenames, y))\n",
    "random.shuffle(filenames_y)\n",
    "filenames, y = zip(*filenames_y)"
   ]
  },
  {
   "cell_type": "code",
   "execution_count": 11,
   "metadata": {},
   "outputs": [
    {
     "name": "stdout",
     "output_type": "stream",
     "text": [
      "644\n",
      "644\n"
     ]
    }
   ],
   "source": [
    "# Only keep the specified number of samples (shorter extraction/training)\n",
    "print(len(filenames))\n",
    "filenames = filenames[:int(len(filenames) * perc_keep_samples)]\n",
    "print(len(filenames))\n"
   ]
  },
  {
   "cell_type": "code",
   "execution_count": 12,
   "metadata": {},
   "outputs": [],
   "source": [
    "# Calculate validation and test set sizes\n",
    "val_set_size = int(len(filenames) * val_ratio)\n",
    "test_set_size = int(len(filenames) * test_ratio)"
   ]
  },
  {
   "cell_type": "code",
   "execution_count": 13,
   "metadata": {},
   "outputs": [],
   "source": [
    "# Break dataset apart into train, validation, and test sets\n",
    "filenames_val = filenames[:val_set_size]\n",
    "filenames_test = filenames[val_set_size:(val_set_size + test_set_size)]\n",
    "filenames_train = filenames[(val_set_size + test_set_size):]\n"
   ]
  },
  {
   "cell_type": "code",
   "execution_count": 14,
   "metadata": {},
   "outputs": [],
   "source": [
    "# Break y apart into train, validation, and test sets\n",
    "y_orig_val = y[:val_set_size]\n",
    "y_orig_test = y[val_set_size:(val_set_size + test_set_size)]\n",
    "y_orig_train = y[(val_set_size + test_set_size):]"
   ]
  },
  {
   "cell_type": "code",
   "execution_count": 15,
   "metadata": {},
   "outputs": [],
   "source": [
    "# Function: Create MFCC from given path\n",
    "def calc_mfcc(path):\n",
    "    \n",
    "    # Load wavefile\n",
    "    signal, fs = librosa.load(path, sr=sample_rate)\n",
    "    \n",
    "    # Create MFCCs from sound clip\n",
    "    mfccs = python_speech_features.base.mfcc(signal, \n",
    "                                            samplerate=fs,\n",
    "                                            winlen=0.256,\n",
    "                                            winstep=0.050,\n",
    "                                            numcep=num_mfcc,\n",
    "                                            nfilt=26,\n",
    "                                            nfft=11290,\n",
    "                                            preemph=0.0,\n",
    "                                            ceplifter=0,\n",
    "                                            appendEnergy=False,\n",
    "                                            winfunc=np.hanning)\n",
    "    return mfccs.transpose()"
   ]
  },
  {
   "cell_type": "code",
   "execution_count": 16,
   "metadata": {},
   "outputs": [],
   "source": [
    "# Create Test \n",
    "prob_cnt = 0\n",
    "x_test = []\n",
    "y_test = []\n",
    "for index, filename in enumerate(filenames_train):\n",
    "    # Create path from given filename and target item\n",
    "    path = join(dataset_path, train_target[int(y_orig_train[index])], \n",
    "                filename)\n",
    "    # Create MFCCs\n",
    "    mfccs = calc_mfcc(path)\n",
    "    \n",
    "    if mfccs.shape[1] == len_mfcc:\n",
    "        x_test.append(mfccs)\n",
    "        y_test.append(y_orig_train[index])\n",
    "    else:\n",
    "        print('Dropped:', index, mfccs.shape)\n",
    "        prob_cnt += 1\n",
    "        "
   ]
  },
  {
   "cell_type": "code",
   "execution_count": 17,
   "metadata": {},
   "outputs": [
    {
     "name": "stdout",
     "output_type": "stream",
     "text": [
      "% of problematic samples: 0.0\n"
     ]
    }
   ],
   "source": [
    "print('% of problematic samples:', prob_cnt / 500)"
   ]
  },
  {
   "cell_type": "code",
   "execution_count": 18,
   "metadata": {},
   "outputs": [
    {
     "name": "stdout",
     "output_type": "stream",
     "text": [
      "C:\\Users\\Greg\\ML\\Technical\\project\\git2\\monophonic_classfication_cnn\\padded\\E3\\padVa-ord-E3-pp-4c-T17u.wav\n",
      "MFCCs: [[-6.93679526e+01 -6.73805709e+01 -6.54835998e+01 -6.40660502e+01\n",
      "  -6.34885621e+01 -6.34670006e+01 -6.37909349e+01 -6.31722818e+01\n",
      "  -6.23575213e+01 -6.23337731e+01 -6.23412168e+01 -6.19982518e+01\n",
      "  -6.18574333e+01 -6.16693599e+01 -6.10737263e+01 -6.05756410e+01]\n",
      " [ 1.39934140e+01  1.49188112e+01  1.59343789e+01  1.68607675e+01\n",
      "   1.72022943e+01  1.71004599e+01  1.68461365e+01  1.70148478e+01\n",
      "   1.73488314e+01  1.73885014e+01  1.72849531e+01  1.73468133e+01\n",
      "   1.75159162e+01  1.76487479e+01  1.76569764e+01  1.76478677e+01]\n",
      " [ 1.69375804e+00  8.78705609e-01  3.76309886e-01  3.55402266e-02\n",
      "  -3.30806314e-01 -4.51747329e-01 -6.69336010e-02  1.17101015e-01\n",
      "   2.32281322e-02  6.52357073e-02 -1.35744414e-01 -6.94821713e-01\n",
      "  -8.62244258e-01 -8.94842902e-01 -1.23359025e+00 -1.47007485e+00]\n",
      " [-1.92385359e+00 -1.71673468e+00 -1.89427960e+00 -2.33680122e+00\n",
      "  -2.76303532e+00 -3.01325464e+00 -2.81494556e+00 -2.34211018e+00\n",
      "  -2.30054715e+00 -2.19375567e+00 -2.15743230e+00 -2.54391365e+00\n",
      "  -2.67260846e+00 -2.41827828e+00 -2.23070551e+00 -2.03749513e+00]\n",
      " [ 1.17023781e-01  9.65310652e-01  9.78138053e-01  7.01679673e-01\n",
      "   3.98870603e-01  2.46233706e-01  4.38115268e-01  4.75362793e-01\n",
      "   2.52508671e-01  3.47534587e-01  4.89311222e-01  4.25514766e-01\n",
      "   3.80036627e-01  4.00222090e-01  4.35071805e-01  3.36912801e-01]\n",
      " [-7.41359176e-01 -3.95281331e-01 -5.95541390e-01 -1.12890769e+00\n",
      "  -1.42343052e+00 -1.35748051e+00 -1.04315674e+00 -1.29325574e+00\n",
      "  -1.39769890e+00 -1.27952220e+00 -1.41359761e+00 -1.42744620e+00\n",
      "  -1.55488743e+00 -1.83781003e+00 -1.91428984e+00 -1.90115867e+00]\n",
      " [-1.82220929e+00 -1.60010527e+00 -1.56335240e+00 -1.77718983e+00\n",
      "  -1.67879246e+00 -1.63407336e+00 -1.79594163e+00 -2.08543236e+00\n",
      "  -2.20589425e+00 -2.27334926e+00 -2.31100167e+00 -2.21138617e+00\n",
      "  -1.95369646e+00 -1.83530135e+00 -1.97018530e+00 -1.94515230e+00]\n",
      " [-1.62784459e+00 -1.54676669e+00 -1.33606372e+00 -1.24261305e+00\n",
      "  -1.05984118e+00 -9.46082406e-01 -9.49771225e-01 -7.58305050e-01\n",
      "  -6.25737920e-01 -6.90487713e-01 -6.21155720e-01 -5.42744401e-01\n",
      "  -5.57673837e-01 -5.69186669e-01 -6.32862771e-01 -7.29225127e-01]\n",
      " [-1.34285179e+00 -1.48795795e+00 -1.55636488e+00 -1.52357467e+00\n",
      "  -1.65351099e+00 -1.71779452e+00 -1.70032074e+00 -1.63922873e+00\n",
      "  -1.52616578e+00 -1.40296153e+00 -1.40806137e+00 -1.47838678e+00\n",
      "  -1.44920444e+00 -1.24037257e+00 -1.00033492e+00 -1.05924850e+00]\n",
      " [-1.66691753e+00 -1.75624816e+00 -1.98858570e+00 -2.01158690e+00\n",
      "  -2.09314054e+00 -2.16406137e+00 -2.19368773e+00 -2.17345284e+00\n",
      "  -2.07985179e+00 -2.02715239e+00 -1.97274167e+00 -1.96771326e+00\n",
      "  -2.09548097e+00 -2.20128036e+00 -2.18698771e+00 -2.03226408e+00]\n",
      " [-1.29599542e+00 -1.24385716e+00 -1.43269763e+00 -1.52444167e+00\n",
      "  -1.48705340e+00 -1.52971334e+00 -1.51947269e+00 -1.43609569e+00\n",
      "  -1.49660666e+00 -1.55334884e+00 -1.38348687e+00 -1.26060266e+00\n",
      "  -1.38684550e+00 -1.58516670e+00 -1.71458652e+00 -1.78164834e+00]\n",
      " [-9.07442422e-01 -8.93519496e-01 -1.04137448e+00 -1.06269558e+00\n",
      "  -9.32620188e-01 -8.86492190e-01 -1.03993666e+00 -1.31221564e+00\n",
      "  -1.47635414e+00 -1.48371082e+00 -1.62741007e+00 -1.70170672e+00\n",
      "  -1.47849880e+00 -1.30184605e+00 -1.26979252e+00 -1.27086687e+00]\n",
      " [-3.05104516e-01 -3.82938860e-01 -4.49226321e-01 -4.31007118e-01\n",
      "  -4.34350438e-01 -3.40656728e-01 -2.84983474e-01 -3.37595870e-01\n",
      "  -3.86467382e-01 -4.58182757e-01 -5.40420426e-01 -5.18855884e-01\n",
      "  -5.95943730e-01 -7.38862316e-01 -6.49797521e-01 -4.75246130e-01]\n",
      " [ 2.15729940e-01 -1.40992505e-01 -2.97867624e-01 -2.76166234e-01\n",
      "  -1.17956891e-01 -1.78918573e-02  3.06157308e-02  1.08654645e-01\n",
      "   7.63700365e-02  8.00754616e-03 -7.94007006e-02 -1.56249210e-01\n",
      "  -3.44309620e-02  6.39335649e-02 -1.18380326e-01 -2.69724043e-01]\n",
      " [ 1.75665573e-01 -1.06148068e-01 -1.47807147e-02  2.76081681e-01\n",
      "   4.38820373e-01  4.76250750e-01  3.64302909e-01  2.44709289e-01\n",
      "   3.94785684e-01  4.27210606e-01  3.55808704e-01  3.56893792e-01\n",
      "   3.76896694e-01  3.94294683e-01  4.46271198e-01  4.08333070e-01]\n",
      " [ 4.12269380e-02  1.89912357e-01  4.24749712e-01  5.09689506e-01\n",
      "   4.74210462e-01  4.50362940e-01  4.40528710e-01  5.14737708e-01\n",
      "   6.26231920e-01  7.14533843e-01  9.09897741e-01  1.05905337e+00\n",
      "   9.68167764e-01  8.83619817e-01  8.95998436e-01  9.66363160e-01]]\n",
      "E3\n"
     ]
    },
    {
     "data": {
      "image/png": "[encoded data removed]",
      "text/plain": [
       "<Figure size 432x288 with 1 Axes>"
      ]
     },
     "metadata": {
      "needs_background": "light"
     },
     "output_type": "display_data"
    }
   ],
   "source": [
    "# TEST: Test shorter MFCC\n",
    "# !pip install playsound\n",
    "from playsound import playsound\n",
    "\n",
    "idx = 10\n",
    "\n",
    "# Create path from given filename and target item\n",
    "path = join(dataset_path, target_list[int(y_orig_train[idx])], \n",
    "            filenames_train[idx])\n",
    "\n",
    "print(path)\n",
    "# Create MFCCs\n",
    "mfccs = calc_mfcc(path)\n",
    "print(\"MFCCs:\", mfccs)\n",
    "\n",
    "# Plot MFCC\n",
    "fig = plt.figure()\n",
    "plt.imshow(mfccs, cmap='inferno', origin='lower')\n",
    "\n",
    "# TEST: Play problem sounds\n",
    "print(target_list[int(y_orig_train[idx])])\n",
    "#playsound(path)"
   ]
  },
  {
   "cell_type": "code",
   "execution_count": 19,
   "metadata": {},
   "outputs": [],
   "source": [
    "# Function: Create MFCCs, keeping only ones of desired length\n",
    "def extract_features(in_files, in_y):\n",
    "    prob_cnt = 0\n",
    "    out_x = []\n",
    "    out_y = []\n",
    "    for index, filename in enumerate(in_files):\n",
    "        # Create path from given filename and target item\n",
    "        path = join(dataset_path, target_list[int(in_y[index])], \n",
    "                    filename)\n",
    "        \n",
    "        # Check to make sure we're reading a .wav file\n",
    "        if not path.endswith('.wav'):\n",
    "            continue\n",
    "\n",
    "        # Create MFCCs\n",
    "        mfccs = calc_mfcc(path)\n",
    "\n",
    "        # Only keep MFCCs with given length\n",
    "        if mfccs.shape[1] == len_mfcc:\n",
    "            out_x.append(mfccs)\n",
    "            out_y.append(in_y[index])\n",
    "        else:\n",
    "            print('Dropped:', index, mfccs.shape)\n",
    "            prob_cnt += 1\n",
    "            \n",
    "    return out_x, out_y, prob_cnt"
   ]
  },
  {
   "cell_type": "code",
   "execution_count": 20,
   "metadata": {},
   "outputs": [
    {
     "name": "stdout",
     "output_type": "stream",
     "text": [
      "Removed percentage: 0.0\n",
      "Removed percentage: 0.0\n",
      "Removed percentage: 0.0\n"
     ]
    }
   ],
   "source": [
    "# Create train, validation, and test sets\n",
    "x_train, y_train, prob = extract_features(filenames_train, \n",
    "                                          y_orig_train)\n",
    "print('Removed percentage:', prob / len(y_orig_train))\n",
    "x_val, y_val, prob = extract_features(filenames_val, y_orig_val)\n",
    "print('Removed percentage:', prob / len(y_orig_val))\n",
    "x_test, y_test, prob = extract_features(filenames_test, y_orig_test)\n",
    "print('Removed percentage:', prob / len(y_orig_test))"
   ]
  },
  {
   "cell_type": "code",
   "execution_count": 21,
   "metadata": {},
   "outputs": [],
   "source": [
    "# Save features and truth vector (y) sets to disk\n",
    "np.savez(feature_sets_file, \n",
    "         x_train=x_train, \n",
    "         y_train=y_train, \n",
    "         x_val=x_val, \n",
    "         y_val=y_val, \n",
    "         x_test=x_test, \n",
    "         y_test=y_test)"
   ]
  },
  {
   "cell_type": "code",
   "execution_count": 22,
   "metadata": {},
   "outputs": [
    {
     "data": {
      "text/plain": [
       "['x_train', 'y_train', 'x_val', 'y_val', 'x_test', 'y_test']"
      ]
     },
     "execution_count": 22,
     "metadata": {},
     "output_type": "execute_result"
    }
   ],
   "source": [
    "# TEST: Load features\n",
    "feature_sets = np.load(feature_sets_file)\n",
    "feature_sets.files"
   ]
  },
  {
   "cell_type": "code",
   "execution_count": 23,
   "metadata": {},
   "outputs": [
    {
     "data": {
      "text/plain": [
       "516"
      ]
     },
     "execution_count": 23,
     "metadata": {},
     "output_type": "execute_result"
    }
   ],
   "source": [
    "len(feature_sets['x_train'])"
   ]
  },
  {
   "cell_type": "code",
   "execution_count": 24,
   "metadata": {},
   "outputs": [
    {
     "name": "stdout",
     "output_type": "stream",
     "text": [
      "[ 1.  8. 10.  8.  7. 10.  4.  5.  1.  1.  0.  6.  5.  8.  2.  0.  0. 11.\n",
      " 11.  7. 11. 11. 11. 10.  6. 10.  4.  5.  7.  4.  5.  1.  2.  0.  7.  5.\n",
      "  8.  7.  7.  3.  4.  1.  0.  9.  5. 10.  1. 10.  9.  6.  9.  7.  0.  1.\n",
      "  4.  2.  0.  8.  0.  2.  1.  2.  6.  0.]\n"
     ]
    }
   ],
   "source": [
    "print(feature_sets['y_val'])"
   ]
  },
  {
   "cell_type": "code",
   "execution_count": null,
   "metadata": {},
   "outputs": [],
   "source": []
  },
  {
   "cell_type": "code",
   "execution_count": null,
   "metadata": {},
   "outputs": [],
   "source": []
  },
  {
   "cell_type": "code",
   "execution_count": null,
   "metadata": {},
   "outputs": [],
   "source": []
  }
 ],
 "metadata": {
  "kernelspec": {
   "display_name": "Python 3 (ipykernel)",
   "language": "python",
   "name": "python3"
  },
  "language_info": {
   "codemirror_mode": {
    "name": "ipython",
    "version": 3
   },
   "file_extension": ".py",
   "mimetype": "text/x-python",
   "name": "python",
   "nbconvert_exporter": "python",
   "pygments_lexer": "ipython3",
   "version": "3.9.12"
  }
 },
 "nbformat": 4,
 "nbformat_minor": 4
}
