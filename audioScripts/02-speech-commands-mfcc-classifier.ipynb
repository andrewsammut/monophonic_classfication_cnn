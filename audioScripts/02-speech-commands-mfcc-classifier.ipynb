{
 "cells": [
  {
   "cell_type": "code",
   "execution_count": 2,
   "metadata": {},
   "outputs": [],
   "source": [
    "from os import listdir\n",
    "from os.path import isdir, join\n",
    "from tensorflow.keras import layers, models\n",
    "import numpy as np"
   ]
  },
  {
   "cell_type": "code",
   "execution_count": 3,
   "metadata": {},
   "outputs": [
    {
     "name": "stdout",
     "output_type": "stream",
     "text": [
      "['six', 'stop', 'three', 'tree']\n"
     ]
    }
   ],
   "source": [
    "# Create list of all targets (minus background noise)\n",
    "dataset_path = 'C:\\\\Users\\Greg\\ML\\Technical'\n",
    "all_targets = all_targets = [name for name in listdir(dataset_path) if isdir(join(dataset_path, name))]\n",
    "all_targets.remove('_background_noise_')\n",
    "print(all_targets)"
   ]
  },
  {
   "cell_type": "code",
   "execution_count": 7,
   "metadata": {},
   "outputs": [],
   "source": [
    "# Settings\n",
    "feature_sets_path = 'C:\\\\Users\\\\Greg\\ML\\\\tflite-speech-recognition-master\\\\tflite-speech-recognition-master'\n",
    "feature_sets_filename = 'all_targets_mfcc_sets.npz'\n",
    "model_filename = 'wake_word_stop_model.h5'\n",
    "wake_word = 'stop'"
   ]
  },
  {
   "cell_type": "code",
   "execution_count": 8,
   "metadata": {},
   "outputs": [
    {
     "name": "stdout",
     "output_type": "stream",
     "text": [
      "['x_train', 'y_train', 'x_val', 'y_val', 'x_test', 'y_test']\n"
     ]
    }
   ],
   "source": [
    "# Load feature sets\n",
    "feature_sets = np.load(join(feature_sets_path, feature_sets_filename))\n",
    "print(feature_sets.files)"
   ]
  },
  {
   "cell_type": "code",
   "execution_count": 9,
   "metadata": {},
   "outputs": [],
   "source": [
    "# Assign feature sets\n",
    "x_train = feature_sets['x_train']\n",
    "y_train = feature_sets['y_train']\n",
    "x_val = feature_sets['x_val']\n",
    "y_val = feature_sets['y_val']\n",
    "x_test = feature_sets['x_test']\n",
    "y_test = feature_sets['y_test']"
   ]
  },
  {
   "cell_type": "code",
   "execution_count": 10,
   "metadata": {},
   "outputs": [
    {
     "name": "stdout",
     "output_type": "stream",
     "text": [
      "(9775, 16, 16)\n",
      "(1212, 16, 16)\n",
      "(1216, 16, 16)\n"
     ]
    }
   ],
   "source": [
    "# Look at tensor dimensions\n",
    "print(x_train.shape)\n",
    "print(x_val.shape)\n",
    "print(x_test.shape)"
   ]
  },
  {
   "cell_type": "code",
   "execution_count": 11,
   "metadata": {},
   "outputs": [
    {
     "name": "stdout",
     "output_type": "stream",
     "text": [
      "[2. 0. 0. ... 0. 0. 1.]\n"
     ]
    }
   ],
   "source": [
    "# Peek at labels\n",
    "print(y_val)"
   ]
  },
  {
   "cell_type": "code",
   "execution_count": 12,
   "metadata": {},
   "outputs": [],
   "source": [
    "# Convert ground truth arrays to one wake word (1) and 'other' (0)\n",
    "wake_word_index = all_targets.index(wake_word)\n",
    "y_train = np.equal(y_train, wake_word_index).astype('float64')\n",
    "y_val = np.equal(y_val, wake_word_index).astype('float64')\n",
    "y_test = np.equal(y_test, wake_word_index).astype('float64')"
   ]
  },
  {
   "cell_type": "code",
   "execution_count": 13,
   "metadata": {},
   "outputs": [
    {
     "name": "stdout",
     "output_type": "stream",
     "text": [
      "[0. 0. 0. ... 0. 0. 1.]\n"
     ]
    }
   ],
   "source": [
    "# Peek at labels after conversion\n",
    "print(y_val)"
   ]
  },
  {
   "cell_type": "code",
   "execution_count": 14,
   "metadata": {},
   "outputs": [
    {
     "name": "stdout",
     "output_type": "stream",
     "text": [
      "0.31435643564356436\n",
      "0.6856435643564356\n"
     ]
    }
   ],
   "source": [
    "# What percentage of 'stop' appear in validation labels\n",
    "print(sum(y_val) / len(y_val))\n",
    "print(1 - sum(y_val) / len(y_val))"
   ]
  },
  {
   "cell_type": "code",
   "execution_count": 15,
   "metadata": {},
   "outputs": [
    {
     "name": "stdout",
     "output_type": "stream",
     "text": [
      "(9775, 16, 16)\n"
     ]
    }
   ],
   "source": [
    "# View the dimensions of our input data\n",
    "print(x_train.shape)"
   ]
  },
  {
   "cell_type": "code",
   "execution_count": 16,
   "metadata": {},
   "outputs": [
    {
     "name": "stdout",
     "output_type": "stream",
     "text": [
      "(9775, 16, 16, 1)\n",
      "(1212, 16, 16, 1)\n",
      "(1216, 16, 16, 1)\n"
     ]
    }
   ],
   "source": [
    "# CNN for TF expects (batch, height, width, channels)\n",
    "# So we reshape the input tensors with a \"color\" channel of 1\n",
    "x_train = x_train.reshape(x_train.shape[0], \n",
    "                          x_train.shape[1], \n",
    "                          x_train.shape[2], \n",
    "                          1)\n",
    "x_val = x_val.reshape(x_val.shape[0], \n",
    "                      x_val.shape[1], \n",
    "                      x_val.shape[2], \n",
    "                      1)\n",
    "x_test = x_test.reshape(x_test.shape[0], \n",
    "                        x_test.shape[1], \n",
    "                        x_test.shape[2], \n",
    "                        1)\n",
    "print(x_train.shape)\n",
    "print(x_val.shape)\n",
    "print(x_test.shape)"
   ]
  },
  {
   "cell_type": "code",
   "execution_count": 17,
   "metadata": {},
   "outputs": [
    {
     "name": "stdout",
     "output_type": "stream",
     "text": [
      "(16, 16, 1)\n"
     ]
    }
   ],
   "source": [
    "# Input shape for CNN is size of MFCC of 1 sample\n",
    "sample_shape = x_test.shape[1:]\n",
    "print(sample_shape)"
   ]
  },
  {
   "cell_type": "code",
   "execution_count": 18,
   "metadata": {},
   "outputs": [],
   "source": [
    "# Build model\n",
    "# Based on: https://www.geeksforgeeks.org/python-image-classification-using-keras/\n",
    "model = models.Sequential()\n",
    "model.add(layers.Conv2D(32, \n",
    "                        (2, 2), \n",
    "                        activation='relu',\n",
    "                        input_shape=sample_shape))\n",
    "model.add(layers.MaxPooling2D(pool_size=(2, 2)))\n",
    "\n",
    "model.add(layers.Conv2D(32, (2, 2), activation='relu'))\n",
    "model.add(layers.MaxPooling2D(pool_size=(2, 2)))\n",
    "\n",
    "model.add(layers.Conv2D(64, (2, 2), activation='relu'))\n",
    "model.add(layers.MaxPooling2D(pool_size=(2, 2)))\n",
    "\n",
    "# Classifier\n",
    "model.add(layers.Flatten())\n",
    "model.add(layers.Dense(64, activation='relu'))\n",
    "model.add(layers.Dropout(0.5))\n",
    "model.add(layers.Dense(1, activation='sigmoid'))"
   ]
  },
  {
   "cell_type": "code",
   "execution_count": 19,
   "metadata": {},
   "outputs": [
    {
     "name": "stdout",
     "output_type": "stream",
     "text": [
      "Model: \"sequential\"\n",
      "_________________________________________________________________\n",
      " Layer (type)                Output Shape              Param #   \n",
      "=================================================================\n",
      " conv2d (Conv2D)             (None, 15, 15, 32)        160       \n",
      "                                                                 \n",
      " max_pooling2d (MaxPooling2D  (None, 7, 7, 32)         0         \n",
      " )                                                               \n",
      "                                                                 \n",
      " conv2d_1 (Conv2D)           (None, 6, 6, 32)          4128      \n",
      "                                                                 \n",
      " max_pooling2d_1 (MaxPooling  (None, 3, 3, 32)         0         \n",
      " 2D)                                                             \n",
      "                                                                 \n",
      " conv2d_2 (Conv2D)           (None, 2, 2, 64)          8256      \n",
      "                                                                 \n",
      " max_pooling2d_2 (MaxPooling  (None, 1, 1, 64)         0         \n",
      " 2D)                                                             \n",
      "                                                                 \n",
      " flatten (Flatten)           (None, 64)                0         \n",
      "                                                                 \n",
      " dense (Dense)               (None, 64)                4160      \n",
      "                                                                 \n",
      " dropout (Dropout)           (None, 64)                0         \n",
      "                                                                 \n",
      " dense_1 (Dense)             (None, 1)                 65        \n",
      "                                                                 \n",
      "=================================================================\n",
      "Total params: 16,769\n",
      "Trainable params: 16,769\n",
      "Non-trainable params: 0\n",
      "_________________________________________________________________\n"
     ]
    }
   ],
   "source": [
    "# Display model\n",
    "model.summary()"
   ]
  },
  {
   "cell_type": "code",
   "execution_count": 20,
   "metadata": {},
   "outputs": [],
   "source": [
    "# Add training parameters to model\n",
    "model.compile(loss='binary_crossentropy', \n",
    "              optimizer='rmsprop', \n",
    "              metrics=['acc'])"
   ]
  },
  {
   "cell_type": "code",
   "execution_count": 21,
   "metadata": {},
   "outputs": [
    {
     "name": "stdout",
     "output_type": "stream",
     "text": [
      "Epoch 1/30\n",
      "98/98 [==============================] - 3s 18ms/step - loss: 0.2352 - acc: 0.9025 - val_loss: 0.0939 - val_acc: 0.9637\n",
      "Epoch 2/30\n",
      "98/98 [==============================] - 1s 14ms/step - loss: 0.1061 - acc: 0.9620 - val_loss: 0.0613 - val_acc: 0.9744\n",
      "Epoch 3/30\n",
      "98/98 [==============================] - 1s 15ms/step - loss: 0.0829 - acc: 0.9684 - val_loss: 0.0549 - val_acc: 0.9777\n",
      "Epoch 4/30\n",
      "98/98 [==============================] - 1s 14ms/step - loss: 0.0695 - acc: 0.9740 - val_loss: 0.0584 - val_acc: 0.9761\n",
      "Epoch 5/30\n",
      "98/98 [==============================] - 1s 14ms/step - loss: 0.0616 - acc: 0.9786 - val_loss: 0.0460 - val_acc: 0.9802\n",
      "Epoch 6/30\n",
      "98/98 [==============================] - 1s 14ms/step - loss: 0.0534 - acc: 0.9805 - val_loss: 0.0444 - val_acc: 0.9802\n",
      "Epoch 7/30\n",
      "98/98 [==============================] - 1s 14ms/step - loss: 0.0502 - acc: 0.9821 - val_loss: 0.0444 - val_acc: 0.9851\n",
      "Epoch 8/30\n",
      "98/98 [==============================] - 1s 13ms/step - loss: 0.0511 - acc: 0.9813 - val_loss: 0.0384 - val_acc: 0.9868\n",
      "Epoch 9/30\n",
      "98/98 [==============================] - 1s 14ms/step - loss: 0.0424 - acc: 0.9846 - val_loss: 0.0393 - val_acc: 0.9851\n",
      "Epoch 10/30\n",
      "98/98 [==============================] - 1s 14ms/step - loss: 0.0405 - acc: 0.9863 - val_loss: 0.0762 - val_acc: 0.9744\n",
      "Epoch 11/30\n",
      "98/98 [==============================] - 1s 15ms/step - loss: 0.0367 - acc: 0.9874 - val_loss: 0.0489 - val_acc: 0.9827\n",
      "Epoch 12/30\n",
      "98/98 [==============================] - 2s 17ms/step - loss: 0.0337 - acc: 0.9875 - val_loss: 0.0320 - val_acc: 0.9868\n",
      "Epoch 13/30\n",
      "98/98 [==============================] - 2s 15ms/step - loss: 0.0293 - acc: 0.9887 - val_loss: 0.0307 - val_acc: 0.9868\n",
      "Epoch 14/30\n",
      "98/98 [==============================] - 1s 15ms/step - loss: 0.0263 - acc: 0.9903 - val_loss: 0.0234 - val_acc: 0.9934\n",
      "Epoch 15/30\n",
      "98/98 [==============================] - 1s 13ms/step - loss: 0.0247 - acc: 0.9908 - val_loss: 0.0358 - val_acc: 0.9876\n",
      "Epoch 16/30\n",
      "98/98 [==============================] - 1s 13ms/step - loss: 0.0220 - acc: 0.9919 - val_loss: 0.0437 - val_acc: 0.9884\n",
      "Epoch 17/30\n",
      "98/98 [==============================] - 1s 13ms/step - loss: 0.0188 - acc: 0.9930 - val_loss: 0.0288 - val_acc: 0.9893\n",
      "Epoch 18/30\n",
      "98/98 [==============================] - 1s 14ms/step - loss: 0.0205 - acc: 0.9930 - val_loss: 0.0314 - val_acc: 0.9901\n",
      "Epoch 19/30\n",
      "98/98 [==============================] - 1s 13ms/step - loss: 0.0169 - acc: 0.9940 - val_loss: 0.0275 - val_acc: 0.9917\n",
      "Epoch 20/30\n",
      "98/98 [==============================] - 1s 15ms/step - loss: 0.0160 - acc: 0.9943 - val_loss: 0.0465 - val_acc: 0.9901\n",
      "Epoch 21/30\n",
      "98/98 [==============================] - 1s 13ms/step - loss: 0.0158 - acc: 0.9936 - val_loss: 0.0370 - val_acc: 0.9901\n",
      "Epoch 22/30\n",
      "98/98 [==============================] - 1s 15ms/step - loss: 0.0163 - acc: 0.9950 - val_loss: 0.0380 - val_acc: 0.9917\n",
      "Epoch 23/30\n",
      "98/98 [==============================] - 2s 17ms/step - loss: 0.0119 - acc: 0.9951 - val_loss: 0.0268 - val_acc: 0.9901\n",
      "Epoch 24/30\n",
      "98/98 [==============================] - 2s 16ms/step - loss: 0.0110 - acc: 0.9958 - val_loss: 0.0501 - val_acc: 0.9851\n",
      "Epoch 25/30\n",
      "98/98 [==============================] - 2s 19ms/step - loss: 0.0120 - acc: 0.9957 - val_loss: 0.0334 - val_acc: 0.9901\n",
      "Epoch 26/30\n",
      "98/98 [==============================] - 1s 15ms/step - loss: 0.0091 - acc: 0.9961 - val_loss: 0.0300 - val_acc: 0.9909\n",
      "Epoch 27/30\n",
      "98/98 [==============================] - 1s 15ms/step - loss: 0.0097 - acc: 0.9967 - val_loss: 0.0288 - val_acc: 0.9901\n",
      "Epoch 28/30\n",
      "98/98 [==============================] - 2s 16ms/step - loss: 0.0081 - acc: 0.9973 - val_loss: 0.0369 - val_acc: 0.9893\n",
      "Epoch 29/30\n",
      "98/98 [==============================] - 2s 15ms/step - loss: 0.0079 - acc: 0.9967 - val_loss: 0.0794 - val_acc: 0.9860\n",
      "Epoch 30/30\n",
      "98/98 [==============================] - 1s 15ms/step - loss: 0.0089 - acc: 0.9971 - val_loss: 0.0588 - val_acc: 0.9835\n"
     ]
    }
   ],
   "source": [
    "# Train\n",
    "history = model.fit(x_train, \n",
    "                    y_train, \n",
    "                    epochs=30, \n",
    "                    batch_size=100, \n",
    "                    validation_data=(x_val, y_val))"
   ]
  },
  {
   "cell_type": "code",
   "execution_count": 22,
   "metadata": {},
   "outputs": [
    {
     "data": {
      "image/png": "[encoded data removed]",
      "text/plain": [
       "<Figure size 432x288 with 1 Axes>"
      ]
     },
     "metadata": {
      "needs_background": "light"
     },
     "output_type": "display_data"
    },
    {
     "data": {
      "image/png": "[encoded data removed]",
      "text/plain": [
       "<Figure size 432x288 with 1 Axes>"
      ]
     },
     "metadata": {
      "needs_background": "light"
     },
     "output_type": "display_data"
    }
   ],
   "source": [
    "# Plot results\n",
    "import matplotlib.pyplot as plt\n",
    "\n",
    "acc = history.history['acc']\n",
    "val_acc = history.history['val_acc']\n",
    "loss = history.history['loss']\n",
    "val_loss = history.history['val_loss']\n",
    "\n",
    "epochs = range(1, len(acc) + 1)\n",
    "\n",
    "plt.plot(epochs, acc, 'bo', label='Training acc')\n",
    "plt.plot(epochs, val_acc, 'b', label='Validation acc')\n",
    "plt.title('Training and validation accuracy')\n",
    "plt.legend()\n",
    "\n",
    "plt.figure()\n",
    "\n",
    "plt.plot(epochs, loss, 'bo', label='Training loss')\n",
    "plt.plot(epochs, val_loss, 'b', label='Validation loss')\n",
    "plt.title('Training and validation loss')\n",
    "plt.legend()\n",
    "\n",
    "plt.show()"
   ]
  },
  {
   "cell_type": "code",
   "execution_count": 23,
   "metadata": {},
   "outputs": [],
   "source": [
    "# Save the model as a file\n",
    "models.save_model(model, model_filename)"
   ]
  },
  {
   "cell_type": "code",
   "execution_count": 24,
   "metadata": {},
   "outputs": [
    {
     "name": "stdout",
     "output_type": "stream",
     "text": [
      "1\n",
      "3\n",
      "4\n",
      "10\n",
      "13\n",
      "16\n",
      "19\n",
      "23\n",
      "25\n",
      "35\n",
      "40\n",
      "45\n",
      "57\n",
      "58\n",
      "62\n",
      "63\n",
      "71\n",
      "74\n",
      "75\n",
      "80\n",
      "86\n",
      "87\n",
      "93\n",
      "94\n",
      "96\n",
      "97\n",
      "98\n",
      "103\n",
      "106\n",
      "112\n",
      "113\n",
      "116\n",
      "118\n",
      "121\n",
      "126\n",
      "131\n",
      "133\n",
      "135\n",
      "136\n",
      "142\n",
      "145\n",
      "148\n",
      "152\n",
      "153\n",
      "154\n",
      "159\n",
      "162\n",
      "164\n",
      "165\n",
      "167\n",
      "173\n",
      "177\n",
      "178\n",
      "181\n",
      "182\n",
      "183\n",
      "186\n",
      "194\n",
      "197\n",
      "198\n",
      "201\n",
      "203\n",
      "204\n",
      "205\n",
      "210\n",
      "213\n",
      "215\n",
      "219\n",
      "222\n",
      "223\n",
      "230\n",
      "232\n",
      "243\n",
      "255\n",
      "258\n",
      "261\n",
      "268\n",
      "273\n",
      "274\n",
      "276\n",
      "287\n",
      "298\n",
      "304\n",
      "310\n",
      "312\n",
      "313\n",
      "314\n",
      "317\n",
      "320\n",
      "321\n",
      "323\n",
      "329\n",
      "335\n",
      "337\n",
      "341\n",
      "344\n",
      "345\n",
      "348\n",
      "350\n",
      "351\n",
      "363\n",
      "370\n",
      "373\n",
      "374\n",
      "383\n",
      "386\n",
      "391\n",
      "392\n",
      "395\n",
      "397\n",
      "401\n",
      "402\n",
      "403\n",
      "405\n",
      "406\n",
      "407\n",
      "408\n",
      "411\n",
      "413\n",
      "417\n",
      "420\n",
      "423\n",
      "424\n",
      "430\n",
      "435\n",
      "439\n",
      "441\n",
      "443\n",
      "444\n",
      "450\n",
      "452\n",
      "453\n",
      "454\n",
      "457\n",
      "460\n",
      "463\n",
      "470\n",
      "471\n",
      "476\n",
      "477\n",
      "479\n",
      "482\n",
      "483\n",
      "484\n",
      "485\n",
      "486\n",
      "487\n",
      "506\n",
      "513\n",
      "516\n",
      "518\n",
      "523\n",
      "524\n",
      "526\n",
      "532\n",
      "533\n",
      "534\n",
      "535\n",
      "538\n",
      "544\n",
      "548\n",
      "552\n",
      "553\n",
      "558\n",
      "560\n",
      "566\n",
      "573\n",
      "576\n",
      "579\n",
      "582\n",
      "583\n",
      "593\n",
      "595\n",
      "597\n",
      "598\n",
      "600\n",
      "607\n",
      "617\n",
      "619\n",
      "620\n",
      "621\n",
      "627\n",
      "630\n",
      "633\n",
      "636\n",
      "641\n",
      "646\n",
      "651\n",
      "653\n",
      "654\n",
      "657\n",
      "658\n",
      "665\n",
      "675\n",
      "679\n",
      "684\n",
      "691\n",
      "694\n",
      "695\n",
      "696\n",
      "697\n",
      "700\n",
      "705\n",
      "709\n",
      "710\n",
      "711\n",
      "712\n",
      "713\n",
      "717\n",
      "719\n",
      "720\n",
      "722\n",
      "724\n",
      "737\n",
      "743\n",
      "744\n",
      "746\n",
      "753\n",
      "756\n",
      "758\n",
      "763\n",
      "765\n",
      "768\n",
      "770\n",
      "771\n",
      "772\n",
      "783\n",
      "788\n",
      "792\n",
      "793\n",
      "800\n",
      "808\n",
      "811\n",
      "812\n",
      "813\n",
      "814\n",
      "819\n",
      "821\n",
      "824\n",
      "830\n",
      "834\n",
      "839\n",
      "845\n",
      "849\n",
      "850\n",
      "855\n",
      "857\n",
      "869\n",
      "871\n",
      "872\n",
      "881\n",
      "882\n",
      "884\n",
      "885\n",
      "886\n",
      "887\n",
      "889\n",
      "890\n",
      "893\n",
      "894\n",
      "906\n",
      "907\n",
      "910\n",
      "914\n",
      "915\n",
      "917\n",
      "918\n",
      "919\n",
      "934\n",
      "938\n",
      "939\n",
      "943\n",
      "944\n",
      "945\n",
      "947\n",
      "948\n",
      "956\n",
      "960\n",
      "961\n",
      "962\n",
      "979\n",
      "989\n",
      "995\n",
      "996\n",
      "999\n",
      "1000\n",
      "1001\n",
      "1006\n",
      "1008\n",
      "1011\n",
      "1015\n",
      "1020\n",
      "1023\n",
      "1024\n",
      "1029\n",
      "1040\n",
      "1052\n",
      "1054\n",
      "1055\n",
      "1059\n",
      "1063\n",
      "1064\n",
      "1067\n",
      "1069\n",
      "1071\n",
      "1073\n",
      "1077\n",
      "1090\n",
      "1091\n",
      "1093\n",
      "1096\n",
      "1097\n",
      "1099\n",
      "1105\n",
      "1115\n",
      "1116\n",
      "1117\n",
      "1120\n",
      "1121\n",
      "1123\n",
      "1126\n",
      "1132\n",
      "1139\n",
      "1143\n",
      "1146\n",
      "1154\n",
      "1160\n",
      "1163\n",
      "1164\n",
      "1165\n",
      "1167\n",
      "1170\n",
      "1172\n",
      "1173\n",
      "1175\n",
      "1177\n",
      "1181\n",
      "1188\n",
      "1194\n",
      "1197\n",
      "1198\n",
      "1203\n",
      "1204\n",
      "1205\n",
      "1206\n",
      "1208\n",
      "1209\n",
      "1211\n",
      "1212\n"
     ]
    }
   ],
   "source": [
    "# See which are 'stop'\n",
    "for idx, y in enumerate(y_test):\n",
    "    if y == 1:\n",
    "        print(idx)"
   ]
  },
  {
   "cell_type": "code",
   "execution_count": 25,
   "metadata": {},
   "outputs": [
    {
     "name": "stdout",
     "output_type": "stream",
     "text": [
      "1/1 [==============================] - 0s 110ms/step\n",
      "Answer: 0.0  Prediction: [[1.9180299e-15]]\n",
      "1/1 [==============================] - 0s 16ms/step\n",
      "Answer: 0.0  Prediction: [[1.3974461e-07]]\n",
      "1/1 [==============================] - 0s 16ms/step\n",
      "Answer: 0.0  Prediction: [[5.987292e-10]]\n",
      "1/1 [==============================] - 0s 18ms/step\n",
      "Answer: 1.0  Prediction: [[1.]]\n",
      "1/1 [==============================] - 0s 21ms/step\n",
      "Answer: 0.0  Prediction: [[4.204913e-13]]\n",
      "1/1 [==============================] - 0s 20ms/step\n",
      "Answer: 0.0  Prediction: [[1.1838766e-08]]\n",
      "1/1 [==============================] - 0s 22ms/step\n",
      "Answer: 1.0  Prediction: [[0.9999979]]\n",
      "1/1 [==============================] - 0s 33ms/step\n",
      "Answer: 0.0  Prediction: [[5.632022e-10]]\n",
      "1/1 [==============================] - 0s 39ms/step\n",
      "Answer: 0.0  Prediction: [[0.00020759]]\n",
      "1/1 [==============================] - 0s 22ms/step\n",
      "Answer: 0.0  Prediction: [[3.716415e-11]]\n"
     ]
    }
   ],
   "source": [
    "# TEST: Load model and run it against test set\n",
    "model = models.load_model(model_filename)\n",
    "for i in range(100, 110):\n",
    "    print('Answer:', y_test[i], ' Prediction:', model.predict(np.expand_dims(x_test[i], 0)))"
   ]
  },
  {
   "cell_type": "code",
   "execution_count": 26,
   "metadata": {},
   "outputs": [
    {
     "name": "stdout",
     "output_type": "stream",
     "text": [
      "38/38 [==============================] - 0s 3ms/step - loss: 0.0938 - acc: 0.9803\n"
     ]
    },
    {
     "data": {
      "text/plain": [
       "[0.09376712888479233, 0.9802631735801697]"
      ]
     },
     "execution_count": 26,
     "metadata": {},
     "output_type": "execute_result"
    }
   ],
   "source": [
    "# Evaluate model with test set\n",
    "model.evaluate(x=x_test, y=y_test)"
   ]
  },
  {
   "cell_type": "code",
   "execution_count": null,
   "metadata": {},
   "outputs": [],
   "source": []
  }
 ],
 "metadata": {
  "kernelspec": {
   "display_name": "Python 3 (ipykernel)",
   "language": "python",
   "name": "python3"
  },
  "language_info": {
   "codemirror_mode": {
    "name": "ipython",
    "version": 3
   },
   "file_extension": ".py",
   "mimetype": "text/x-python",
   "name": "python",
   "nbconvert_exporter": "python",
   "pygments_lexer": "ipython3",
   "version": "3.9.12"
  }
 },
 "nbformat": 4,
 "nbformat_minor": 2
}
