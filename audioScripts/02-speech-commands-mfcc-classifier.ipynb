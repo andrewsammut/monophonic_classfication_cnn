{
 "cells": [
  {
   "cell_type": "code",
   "execution_count": 1,
   "metadata": {},
   "outputs": [],
   "source": [
    "from os import listdir\n",
    "from os.path import isdir, join\n",
    "from tensorflow.keras import layers, models\n",
    "import numpy as np"
   ]
  },
  {
   "cell_type": "code",
   "execution_count": 2,
   "metadata": {},
   "outputs": [
    {
     "name": "stdout",
     "output_type": "stream",
     "text": [
      "['A#3', 'A#4', 'A3', 'A4', 'B3', 'B4', 'C#3', 'C#4', 'C3', 'C4', 'D#3', 'D#4', 'D3', 'D4', 'E3', 'E4', 'F#3', 'F#4', 'F3', 'F4', 'G3', 'G4']\n"
     ]
    }
   ],
   "source": [
    "# Create list of all targets (minus background noise)\n",
    "dataset_path = 'C:\\\\Users\\\\Greg\\\\ML\\\\Technical\\\\project\\\\git2\\\\monophonic_classfication_cnn\\\\padded'\n",
    "all_targets = all_targets = [name for name in listdir(dataset_path) if isdir(join(dataset_path, name))]\n",
    "all_targets.remove('_background_noise_')\n",
    "print(all_targets)"
   ]
  },
  {
   "cell_type": "code",
   "execution_count": 3,
   "metadata": {},
   "outputs": [],
   "source": [
    "# Settings\n",
    "feature_sets_path = 'C:\\\\Users\\\\Greg\\\\ML\\\\Technical\\\\project\\\\git2\\\\monophonic_classfication_cnn\\\\audioScripts'\n",
    "feature_sets_filename = 'all_targets_mfcc_sets.npz'\n",
    "model_filename = 'wake_word_A#3_model.h5'\n",
    "#wake_word = 'A#3'"
   ]
  },
  {
   "cell_type": "code",
   "execution_count": 4,
   "metadata": {},
   "outputs": [
    {
     "name": "stdout",
     "output_type": "stream",
     "text": [
      "['x_train', 'y_train', 'x_val', 'y_val', 'x_test', 'y_test']\n"
     ]
    }
   ],
   "source": [
    "# Load feature sets\n",
    "feature_sets = np.load(join(feature_sets_path, feature_sets_filename))\n",
    "print(feature_sets.files)"
   ]
  },
  {
   "cell_type": "code",
   "execution_count": 5,
   "metadata": {},
   "outputs": [],
   "source": [
    "# Assign feature sets\n",
    "x_train = feature_sets['x_train']\n",
    "y_train = feature_sets['y_train']\n",
    "x_val = feature_sets['x_val']\n",
    "y_val = feature_sets['y_val']\n",
    "x_test = feature_sets['x_test']\n",
    "y_test = feature_sets['y_test']"
   ]
  },
  {
   "cell_type": "code",
   "execution_count": 6,
   "metadata": {},
   "outputs": [
    {
     "name": "stdout",
     "output_type": "stream",
     "text": [
      "(1024, 16, 16)\n",
      "(128, 16, 16)\n",
      "(128, 16, 16)\n"
     ]
    }
   ],
   "source": [
    "# Look at tensor dimensions\n",
    "print(x_train.shape)\n",
    "print(x_val.shape)\n",
    "print(x_test.shape)"
   ]
  },
  {
   "cell_type": "code",
   "execution_count": 7,
   "metadata": {},
   "outputs": [
    {
     "name": "stdout",
     "output_type": "stream",
     "text": [
      "[21.  9. 13.  0.  0. 10. 13. 13.  0. 13. 10.  9. 15.  0.  9. 18.  0. 20.\n",
      " 11. 13.  8.  6. 12.  4.  2.  3.  7. 11.  5.  1.  5. 11.  4.  2.  8.  1.\n",
      "  5.  2.  3.  6. 10.  7. 11. 13.  2. 17.  5. 11.  3.  5. 13.  2.  5. 10.\n",
      "  5. 12.  9.  4.  8.  9. 18. 15.  4.  9.  4.  4.  6.  0.  5.  1.  4. 11.\n",
      " 10. 13.  3.  4. 17. 15.  4. 20.  4. 15. 19.  5. 14. 21. 11.  6.  5. 11.\n",
      " 20.  2.  1.  0.  2.  5.  3. 10. 17.  5.  3.  1. 17.  1. 20. 12. 17.  0.\n",
      " 11. 14.  6.  4. 11. 10. 15.  0. 20. 14. 19. 13.  4.  0. 21. 18.  6. 11.\n",
      "  8. 19.]\n"
     ]
    }
   ],
   "source": [
    "# Peek at labels\n",
    "print(y_val)"
   ]
  },
  {
   "cell_type": "code",
   "execution_count": 8,
   "metadata": {},
   "outputs": [],
   "source": [
    "# Convert ground truth arrays to one wake word (1) and 'other' (0)\n",
    "wake_word_index = all_targets.index(wake_word)\n",
    "y_train = np.equal(y_train, wake_word_index).astype('float64')\n",
    "y_val = np.equal(y_val, wake_word_index).astype('float64')\n",
    "y_test = np.equal(y_test, wake_word_index).astype('float64')"
   ]
  },
  {
   "cell_type": "code",
   "execution_count": 9,
   "metadata": {},
   "outputs": [
    {
     "name": "stdout",
     "output_type": "stream",
     "text": [
      "[21.  9. 13.  0.  0. 10. 13. 13.  0. 13. 10.  9. 15.  0.  9. 18.  0. 20.\n",
      " 11. 13.  8.  6. 12.  4.  2.  3.  7. 11.  5.  1.  5. 11.  4.  2.  8.  1.\n",
      "  5.  2.  3.  6. 10.  7. 11. 13.  2. 17.  5. 11.  3.  5. 13.  2.  5. 10.\n",
      "  5. 12.  9.  4.  8.  9. 18. 15.  4.  9.  4.  4.  6.  0.  5.  1.  4. 11.\n",
      " 10. 13.  3.  4. 17. 15.  4. 20.  4. 15. 19.  5. 14. 21. 11.  6.  5. 11.\n",
      " 20.  2.  1.  0.  2.  5.  3. 10. 17.  5.  3.  1. 17.  1. 20. 12. 17.  0.\n",
      " 11. 14.  6.  4. 11. 10. 15.  0. 20. 14. 19. 13.  4.  0. 21. 18.  6. 11.\n",
      "  8. 19.]\n"
     ]
    }
   ],
   "source": [
    "# Peek at labels after conversion\n",
    "print(y_val)"
   ]
  },
  {
   "cell_type": "code",
   "execution_count": 10,
   "metadata": {},
   "outputs": [
    {
     "name": "stdout",
     "output_type": "stream",
     "text": [
      "8.609375\n",
      "-7.609375\n"
     ]
    }
   ],
   "source": [
    "# What percentage of 'stop' appear in validation labels\n",
    "print(sum(y_val) / len(y_val))\n",
    "print(1 - sum(y_val) / len(y_val))"
   ]
  },
  {
   "cell_type": "code",
   "execution_count": 11,
   "metadata": {},
   "outputs": [
    {
     "name": "stdout",
     "output_type": "stream",
     "text": [
      "(1024, 16, 16)\n"
     ]
    }
   ],
   "source": [
    "# View the dimensions of our input data\n",
    "print(x_train.shape)"
   ]
  },
  {
   "cell_type": "code",
   "execution_count": 12,
   "metadata": {},
   "outputs": [
    {
     "name": "stdout",
     "output_type": "stream",
     "text": [
      "(1024, 16, 16, 1)\n",
      "(128, 16, 16, 1)\n",
      "(128, 16, 16, 1)\n"
     ]
    }
   ],
   "source": [
    "# CNN for TF expects (batch, height, width, channels)\n",
    "# So we reshape the input tensors with a \"color\" channel of 1\n",
    "x_train = x_train.reshape(x_train.shape[0], \n",
    "                          x_train.shape[1], \n",
    "                          x_train.shape[2], \n",
    "                          1)\n",
    "x_val = x_val.reshape(x_val.shape[0], \n",
    "                      x_val.shape[1], \n",
    "                      x_val.shape[2], \n",
    "                      1)\n",
    "x_test = x_test.reshape(x_test.shape[0], \n",
    "                        x_test.shape[1], \n",
    "                        x_test.shape[2], \n",
    "                        1)\n",
    "print(x_train.shape)\n",
    "print(x_val.shape)\n",
    "print(x_test.shape)"
   ]
  },
  {
   "cell_type": "code",
   "execution_count": 13,
   "metadata": {},
   "outputs": [
    {
     "name": "stdout",
     "output_type": "stream",
     "text": [
      "(16, 16, 1)\n"
     ]
    }
   ],
   "source": [
    "# Input shape for CNN is size of MFCC of 1 sample\n",
    "sample_shape = x_test.shape[1:]\n",
    "print(sample_shape)"
   ]
  },
  {
   "cell_type": "code",
   "execution_count": 14,
   "metadata": {},
   "outputs": [],
   "source": [
    "# Build model\n",
    "# Based on: https://www.geeksforgeeks.org/python-image-classification-using-keras/\n",
    "model = models.Sequential()\n",
    "model.add(layers.Conv2D(32, \n",
    "                        (2, 2), \n",
    "                        activation='relu',\n",
    "                        input_shape=sample_shape))\n",
    "model.add(layers.MaxPooling2D(pool_size=(2, 2)))\n",
    "\n",
    "model.add(layers.Conv2D(32, (2, 2), activation='relu'))\n",
    "model.add(layers.MaxPooling2D(pool_size=(2, 2)))\n",
    "\n",
    "model.add(layers.Conv2D(64, (2, 2), activation='relu'))\n",
    "model.add(layers.MaxPooling2D(pool_size=(2, 2)))\n",
    "\n",
    "# Classifier\n",
    "model.add(layers.Flatten())\n",
    "model.add(layers.Dense(64, activation='relu'))\n",
    "model.add(layers.Dropout(0.5))\n",
    "model.add(layers.Dense(1, activation='sigmoid'))"
   ]
  },
  {
   "cell_type": "code",
   "execution_count": 15,
   "metadata": {},
   "outputs": [
    {
     "name": "stdout",
     "output_type": "stream",
     "text": [
      "Model: \"sequential\"\n",
      "_________________________________________________________________\n",
      " Layer (type)                Output Shape              Param #   \n",
      "=================================================================\n",
      " conv2d (Conv2D)             (None, 15, 15, 32)        160       \n",
      "                                                                 \n",
      " max_pooling2d (MaxPooling2D  (None, 7, 7, 32)         0         \n",
      " )                                                               \n",
      "                                                                 \n",
      " conv2d_1 (Conv2D)           (None, 6, 6, 32)          4128      \n",
      "                                                                 \n",
      " max_pooling2d_1 (MaxPooling  (None, 3, 3, 32)         0         \n",
      " 2D)                                                             \n",
      "                                                                 \n",
      " conv2d_2 (Conv2D)           (None, 2, 2, 64)          8256      \n",
      "                                                                 \n",
      " max_pooling2d_2 (MaxPooling  (None, 1, 1, 64)         0         \n",
      " 2D)                                                             \n",
      "                                                                 \n",
      " flatten (Flatten)           (None, 64)                0         \n",
      "                                                                 \n",
      " dense (Dense)               (None, 64)                4160      \n",
      "                                                                 \n",
      " dropout (Dropout)           (None, 64)                0         \n",
      "                                                                 \n",
      " dense_1 (Dense)             (None, 1)                 65        \n",
      "                                                                 \n",
      "=================================================================\n",
      "Total params: 16,769\n",
      "Trainable params: 16,769\n",
      "Non-trainable params: 0\n",
      "_________________________________________________________________\n"
     ]
    }
   ],
   "source": [
    "# Display model\n",
    "model.summary()"
   ]
  },
  {
   "cell_type": "code",
   "execution_count": 16,
   "metadata": {},
   "outputs": [],
   "source": [
    "# Add training parameters to model\n",
    "model.compile(loss='binary_crossentropy', \n",
    "              optimizer='rmsprop', \n",
    "              metrics=['acc'])"
   ]
  },
  {
   "cell_type": "code",
   "execution_count": 17,
   "metadata": {},
   "outputs": [
    {
     "name": "stdout",
     "output_type": "stream",
     "text": [
      "Epoch 1/30\n",
      "11/11 [==============================] - 2s 38ms/step - loss: -367.0662 - acc: 0.0459 - val_loss: -1179.8192 - val_acc: 0.0469\n",
      "Epoch 2/30\n",
      "11/11 [==============================] - 0s 16ms/step - loss: -3882.0093 - acc: 0.0479 - val_loss: -7067.3525 - val_acc: 0.0469\n",
      "Epoch 3/30\n",
      "11/11 [==============================] - 0s 16ms/step - loss: -15592.6484 - acc: 0.0479 - val_loss: -22061.3535 - val_acc: 0.0469\n",
      "Epoch 4/30\n",
      "11/11 [==============================] - 0s 15ms/step - loss: -42496.7969 - acc: 0.0479 - val_loss: -52993.6680 - val_acc: 0.0469\n",
      "Epoch 5/30\n",
      "11/11 [==============================] - 0s 15ms/step - loss: -92088.3281 - acc: 0.0479 - val_loss: -104386.5156 - val_acc: 0.0469\n",
      "Epoch 6/30\n",
      "11/11 [==============================] - 0s 15ms/step - loss: -171470.8438 - acc: 0.0479 - val_loss: -187143.3125 - val_acc: 0.0469\n",
      "Epoch 7/30\n",
      "11/11 [==============================] - 0s 15ms/step - loss: -294883.0312 - acc: 0.0479 - val_loss: -311967.0625 - val_acc: 0.0469\n",
      "Epoch 8/30\n",
      "11/11 [==============================] - 0s 15ms/step - loss: -477852.6250 - acc: 0.0479 - val_loss: -484909.3750 - val_acc: 0.0469\n",
      "Epoch 9/30\n",
      "11/11 [==============================] - 0s 15ms/step - loss: -728350.5000 - acc: 0.0479 - val_loss: -726212.3750 - val_acc: 0.0469\n",
      "Epoch 10/30\n",
      "11/11 [==============================] - 0s 15ms/step - loss: -1054330.3750 - acc: 0.0479 - val_loss: -1037409.2500 - val_acc: 0.0469\n",
      "Epoch 11/30\n",
      "11/11 [==============================] - 0s 15ms/step - loss: -1499484.6250 - acc: 0.0479 - val_loss: -1439777.2500 - val_acc: 0.0469\n",
      "Epoch 12/30\n",
      "11/11 [==============================] - 0s 17ms/step - loss: -2098069.2500 - acc: 0.0479 - val_loss: -1965312.0000 - val_acc: 0.0469\n",
      "Epoch 13/30\n",
      "11/11 [==============================] - 0s 15ms/step - loss: -2783933.5000 - acc: 0.0479 - val_loss: -2613668.5000 - val_acc: 0.0469\n",
      "Epoch 14/30\n",
      "11/11 [==============================] - 0s 15ms/step - loss: -3646829.2500 - acc: 0.0479 - val_loss: -3437424.5000 - val_acc: 0.0469\n",
      "Epoch 15/30\n",
      "11/11 [==============================] - 0s 15ms/step - loss: -4789530.5000 - acc: 0.0479 - val_loss: -4433927.0000 - val_acc: 0.0469\n",
      "Epoch 16/30\n",
      "11/11 [==============================] - 0s 21ms/step - loss: -6160291.0000 - acc: 0.0479 - val_loss: -5645121.0000 - val_acc: 0.0469\n",
      "Epoch 17/30\n",
      "11/11 [==============================] - 0s 19ms/step - loss: -7790360.0000 - acc: 0.0479 - val_loss: -7091271.5000 - val_acc: 0.0469\n",
      "Epoch 18/30\n",
      "11/11 [==============================] - 0s 17ms/step - loss: -9704113.0000 - acc: 0.0479 - val_loss: -8781447.0000 - val_acc: 0.0469\n",
      "Epoch 19/30\n",
      "11/11 [==============================] - 0s 21ms/step - loss: -12211686.0000 - acc: 0.0479 - val_loss: -10862134.0000 - val_acc: 0.0469\n",
      "Epoch 20/30\n",
      "11/11 [==============================] - 0s 16ms/step - loss: -14843666.0000 - acc: 0.0479 - val_loss: -13216231.0000 - val_acc: 0.0469\n",
      "Epoch 21/30\n",
      "11/11 [==============================] - 0s 16ms/step - loss: -17913990.0000 - acc: 0.0479 - val_loss: -15947349.0000 - val_acc: 0.0469\n",
      "Epoch 22/30\n",
      "11/11 [==============================] - 0s 20ms/step - loss: -21519004.0000 - acc: 0.0479 - val_loss: -19106164.0000 - val_acc: 0.0469\n",
      "Epoch 23/30\n",
      "11/11 [==============================] - 0s 17ms/step - loss: -25908626.0000 - acc: 0.0479 - val_loss: -22732980.0000 - val_acc: 0.0469\n",
      "Epoch 24/30\n",
      "11/11 [==============================] - 0s 17ms/step - loss: -30533430.0000 - acc: 0.0479 - val_loss: -26976464.0000 - val_acc: 0.0469\n",
      "Epoch 25/30\n",
      "11/11 [==============================] - 0s 22ms/step - loss: -35890704.0000 - acc: 0.0479 - val_loss: -31659664.0000 - val_acc: 0.0469\n",
      "Epoch 26/30\n",
      "11/11 [==============================] - 0s 15ms/step - loss: -42609692.0000 - acc: 0.0479 - val_loss: -36983204.0000 - val_acc: 0.0469\n",
      "Epoch 27/30\n",
      "11/11 [==============================] - 0s 19ms/step - loss: -49406548.0000 - acc: 0.0479 - val_loss: -43078764.0000 - val_acc: 0.0469\n",
      "Epoch 28/30\n",
      "11/11 [==============================] - 0s 19ms/step - loss: -57639392.0000 - acc: 0.0479 - val_loss: -49995512.0000 - val_acc: 0.0469\n",
      "Epoch 29/30\n",
      "11/11 [==============================] - 0s 22ms/step - loss: -66245220.0000 - acc: 0.0479 - val_loss: -57479984.0000 - val_acc: 0.0469\n",
      "Epoch 30/30\n",
      "11/11 [==============================] - 0s 16ms/step - loss: -76293640.0000 - acc: 0.0479 - val_loss: -66134468.0000 - val_acc: 0.0469\n"
     ]
    }
   ],
   "source": [
    "# Train\n",
    "history = model.fit(x_train, \n",
    "                    y_train, \n",
    "                    epochs=30, \n",
    "                    batch_size=100, \n",
    "                    validation_data=(x_val, y_val))"
   ]
  },
  {
   "cell_type": "code",
   "execution_count": 18,
   "metadata": {},
   "outputs": [
    {
     "data": {
      "image/png": "[encoded data removed]",
      "text/plain": [
       "<Figure size 432x288 with 1 Axes>"
      ]
     },
     "metadata": {
      "needs_background": "light"
     },
     "output_type": "display_data"
    },
    {
     "data": {
      "image/png": "[encoded data removed]",
      "text/plain": [
       "<Figure size 432x288 with 1 Axes>"
      ]
     },
     "metadata": {
      "needs_background": "light"
     },
     "output_type": "display_data"
    }
   ],
   "source": [
    "# Plot results\n",
    "import matplotlib.pyplot as plt\n",
    "\n",
    "acc = history.history['acc']\n",
    "val_acc = history.history['val_acc']\n",
    "loss = history.history['loss']\n",
    "val_loss = history.history['val_loss']\n",
    "\n",
    "epochs = range(1, len(acc) + 1)\n",
    "\n",
    "plt.plot(epochs, acc, 'bo', label='Training acc')\n",
    "plt.plot(epochs, val_acc, 'b', label='Validation acc')\n",
    "plt.title('Training and validation accuracy')\n",
    "plt.legend()\n",
    "\n",
    "plt.figure()\n",
    "\n",
    "plt.plot(epochs, loss, 'bo', label='Training loss')\n",
    "plt.plot(epochs, val_loss, 'b', label='Validation loss')\n",
    "plt.title('Training and validation loss')\n",
    "plt.legend()\n",
    "\n",
    "plt.show()"
   ]
  },
  {
   "cell_type": "code",
   "execution_count": 19,
   "metadata": {},
   "outputs": [],
   "source": [
    "# Save the model as a file\n",
    "models.save_model(model, model_filename)"
   ]
  },
  {
   "cell_type": "code",
   "execution_count": 20,
   "metadata": {},
   "outputs": [
    {
     "name": "stdout",
     "output_type": "stream",
     "text": [
      "13\n",
      "16\n",
      "29\n",
      "33\n",
      "35\n",
      "42\n",
      "45\n",
      "93\n",
      "112\n",
      "122\n"
     ]
    }
   ],
   "source": [
    "# See which are 'stop'\n",
    "for idx, y in enumerate(y_test):\n",
    "    if y == 1:\n",
    "        print(idx)"
   ]
  },
  {
   "cell_type": "code",
   "execution_count": 21,
   "metadata": {},
   "outputs": [
    {
     "name": "stdout",
     "output_type": "stream",
     "text": [
      "1/1 [==============================] - 0s 125ms/step\n",
      "Answer: 0.0  Prediction: [[1.]]\n",
      "1/1 [==============================] - 0s 19ms/step\n",
      "Answer: 8.0  Prediction: [[1.]]\n",
      "1/1 [==============================] - 0s 18ms/step\n",
      "Answer: 18.0  Prediction: [[1.]]\n",
      "1/1 [==============================] - 0s 19ms/step\n",
      "Answer: 16.0  Prediction: [[1.]]\n",
      "1/1 [==============================] - 0s 21ms/step\n",
      "Answer: 2.0  Prediction: [[1.]]\n",
      "1/1 [==============================] - 0s 25ms/step\n",
      "Answer: 3.0  Prediction: [[1.]]\n",
      "1/1 [==============================] - 0s 20ms/step\n",
      "Answer: 5.0  Prediction: [[1.]]\n",
      "1/1 [==============================] - 0s 19ms/step\n",
      "Answer: 12.0  Prediction: [[1.]]\n",
      "1/1 [==============================] - 0s 19ms/step\n",
      "Answer: 19.0  Prediction: [[1.]]\n",
      "1/1 [==============================] - 0s 19ms/step\n",
      "Answer: 0.0  Prediction: [[1.]]\n"
     ]
    }
   ],
   "source": [
    "# TEST: Load model and run it against test set\n",
    "model = models.load_model(model_filename)\n",
    "for i in range(100, 110):\n",
    "    print('Answer:', y_test[i], ' Prediction:', model.predict(np.expand_dims(x_test[i], 0)))"
   ]
  },
  {
   "cell_type": "code",
   "execution_count": 22,
   "metadata": {},
   "outputs": [
    {
     "name": "stdout",
     "output_type": "stream",
     "text": [
      "4/4 [==============================] - 0s 4ms/step - loss: -78574472.0000 - acc: 0.0781\n"
     ]
    },
    {
     "data": {
      "text/plain": [
       "[-78574472.0, 0.078125]"
      ]
     },
     "execution_count": 22,
     "metadata": {},
     "output_type": "execute_result"
    }
   ],
   "source": [
    "# Evaluate model with test set\n",
    "model.evaluate(x=x_test, y=y_test)"
   ]
  },
  {
   "cell_type": "code",
   "execution_count": null,
   "metadata": {},
   "outputs": [],
   "source": []
  }
 ],
 "metadata": {
  "kernelspec": {
   "display_name": "Python 3 (ipykernel)",
   "language": "python",
   "name": "python3"
  },
  "language_info": {
   "codemirror_mode": {
    "name": "ipython",
    "version": 3
   },
   "file_extension": ".py",
   "mimetype": "text/x-python",
   "name": "python",
   "nbconvert_exporter": "python",
   "pygments_lexer": "ipython3",
   "version": "3.9.12"
  }
 },
 "nbformat": 4,
 "nbformat_minor": 4
}
