{
 "cells": [
  {
   "cell_type": "code",
   "execution_count": 1,
   "metadata": {},
   "outputs": [],
   "source": [
    "from os import listdir\n",
    "from os.path import isdir, join\n",
    "from tensorflow.keras import layers, models\n",
    "import numpy as np"
   ]
  },
  {
   "cell_type": "code",
   "execution_count": 2,
   "metadata": {},
   "outputs": [
    {
     "name": "stdout",
     "output_type": "stream",
     "text": [
      "['A#3', 'A#4', 'A3', 'A4', 'B3', 'B4', 'C#3', 'C#4', 'C3', 'C4', 'D#3', 'D#4', 'D3', 'D4', 'E3', 'E4', 'F#3', 'F#4', 'F3', 'F4', 'G3', 'G4']\n"
     ]
    }
   ],
   "source": [
    "# Create list of all targets (minus background noise)\n",
    "dataset_path = 'C:\\\\Users\\\\Greg\\\\ML\\\\Technical\\\\project\\\\git2\\\\monophonic_classfication_cnn\\\\padded'\n",
    "all_targets = all_targets = [name for name in listdir(dataset_path) if isdir(join(dataset_path, name))]\n",
    "all_targets.remove('_background_noise_')\n",
    "print(all_targets)"
   ]
  },
  {
   "cell_type": "code",
   "execution_count": 3,
   "metadata": {},
   "outputs": [],
   "source": [
    "# Settings\n",
    "feature_sets_path = 'C:\\\\Users\\\\Greg\\\\ML\\\\Technical\\\\project\\\\git2\\\\monophonic_classfication_cnn\\\\audioScripts'\n",
    "feature_sets_filename = 'all_targets_mfcc_sets.npz'\n",
    "model_filename = 'wake_word_A#3_model.h5'\n",
    "wake_word = 'A#3'"
   ]
  },
  {
   "cell_type": "code",
   "execution_count": 4,
   "metadata": {},
   "outputs": [
    {
     "name": "stdout",
     "output_type": "stream",
     "text": [
      "['x_train', 'y_train', 'x_val', 'y_val', 'x_test', 'y_test']\n"
     ]
    }
   ],
   "source": [
    "# Load feature sets\n",
    "feature_sets = np.load(join(feature_sets_path, feature_sets_filename))\n",
    "print(feature_sets.files)"
   ]
  },
  {
   "cell_type": "code",
   "execution_count": 5,
   "metadata": {},
   "outputs": [],
   "source": [
    "# Assign feature sets\n",
    "x_train = feature_sets['x_train']\n",
    "y_train = feature_sets['y_train']\n",
    "x_val = feature_sets['x_val']\n",
    "y_val = feature_sets['y_val']\n",
    "x_test = feature_sets['x_test']\n",
    "y_test = feature_sets['y_test']"
   ]
  },
  {
   "cell_type": "code",
   "execution_count": 6,
   "metadata": {},
   "outputs": [
    {
     "name": "stdout",
     "output_type": "stream",
     "text": [
      "(1024, 16, 16)\n",
      "(128, 16, 16)\n",
      "(128, 16, 16)\n"
     ]
    }
   ],
   "source": [
    "# Look at tensor dimensions\n",
    "print(x_train.shape)\n",
    "print(x_val.shape)\n",
    "print(x_test.shape)"
   ]
  },
  {
   "cell_type": "code",
   "execution_count": 7,
   "metadata": {},
   "outputs": [
    {
     "name": "stdout",
     "output_type": "stream",
     "text": [
      "[ 9.  9.  5. 21.  6. 17.  4.  3. 15. 18. 20.  2.  2. 17.  0. 12. 16. 21.\n",
      " 17.  3. 20. 10. 18. 10.  5. 11.  1. 19. 12. 20.  4. 13.  6.  7. 13. 21.\n",
      "  6. 18.  4.  5. 21.  9.  8. 18. 11.  1. 21. 19. 14.  2.  1.  8. 20.  0.\n",
      "  9. 10.  9. 21.  0. 18. 19.  0. 15. 15.  7.  9.  9.  3. 15.  2.  2.  4.\n",
      "  1.  7. 19. 17. 18.  3.  7.  2. 20. 18.  9. 11.  6.  2.  5.  0. 11.  7.\n",
      "  4.  7. 12. 14.  5. 11.  6.  9.  4.  1. 15.  1.  5. 11.  0.  2. 18. 21.\n",
      "  0.  4. 19. 17. 10.  8. 11. 20. 13.  3.  8. 15. 10. 16. 16. 15. 12. 16.\n",
      "  6.  5.]\n"
     ]
    }
   ],
   "source": [
    "# Peek at labels\n",
    "print(y_val)"
   ]
  },
  {
   "cell_type": "code",
   "execution_count": 8,
   "metadata": {},
   "outputs": [],
   "source": [
    "# Convert ground truth arrays to one wake word (1) and 'other' (0)\n",
    "wake_word_index = all_targets.index(wake_word)\n",
    "y_train = np.equal(y_train, wake_word_index).astype('float64')\n",
    "y_val = np.equal(y_val, wake_word_index).astype('float64')\n",
    "y_test = np.equal(y_test, wake_word_index).astype('float64')"
   ]
  },
  {
   "cell_type": "code",
   "execution_count": 9,
   "metadata": {},
   "outputs": [
    {
     "name": "stdout",
     "output_type": "stream",
     "text": [
      "[0. 0. 0. 0. 0. 0. 0. 0. 0. 0. 0. 0. 0. 0. 1. 0. 0. 0. 0. 0. 0. 0. 0. 0.\n",
      " 0. 0. 0. 0. 0. 0. 0. 0. 0. 0. 0. 0. 0. 0. 0. 0. 0. 0. 0. 0. 0. 0. 0. 0.\n",
      " 0. 0. 0. 0. 0. 1. 0. 0. 0. 0. 1. 0. 0. 1. 0. 0. 0. 0. 0. 0. 0. 0. 0. 0.\n",
      " 0. 0. 0. 0. 0. 0. 0. 0. 0. 0. 0. 0. 0. 0. 0. 1. 0. 0. 0. 0. 0. 0. 0. 0.\n",
      " 0. 0. 0. 0. 0. 0. 0. 0. 1. 0. 0. 0. 1. 0. 0. 0. 0. 0. 0. 0. 0. 0. 0. 0.\n",
      " 0. 0. 0. 0. 0. 0. 0. 0.]\n"
     ]
    }
   ],
   "source": [
    "# Peek at labels after conversion\n",
    "print(y_val)"
   ]
  },
  {
   "cell_type": "code",
   "execution_count": 10,
   "metadata": {},
   "outputs": [
    {
     "name": "stdout",
     "output_type": "stream",
     "text": [
      "0.0546875\n",
      "0.9453125\n"
     ]
    }
   ],
   "source": [
    "# What percentage of 'stop' appear in validation labels\n",
    "print(sum(y_val) / len(y_val))\n",
    "print(1 - sum(y_val) / len(y_val))"
   ]
  },
  {
   "cell_type": "code",
   "execution_count": 11,
   "metadata": {},
   "outputs": [
    {
     "name": "stdout",
     "output_type": "stream",
     "text": [
      "(1024, 16, 16)\n"
     ]
    }
   ],
   "source": [
    "# View the dimensions of our input data\n",
    "print(x_train.shape)"
   ]
  },
  {
   "cell_type": "code",
   "execution_count": 12,
   "metadata": {},
   "outputs": [
    {
     "name": "stdout",
     "output_type": "stream",
     "text": [
      "(1024, 16, 16, 1)\n",
      "(128, 16, 16, 1)\n",
      "(128, 16, 16, 1)\n"
     ]
    }
   ],
   "source": [
    "# CNN for TF expects (batch, height, width, channels)\n",
    "# So we reshape the input tensors with a \"color\" channel of 1\n",
    "x_train = x_train.reshape(x_train.shape[0], \n",
    "                          x_train.shape[1], \n",
    "                          x_train.shape[2], \n",
    "                          1)\n",
    "x_val = x_val.reshape(x_val.shape[0], \n",
    "                      x_val.shape[1], \n",
    "                      x_val.shape[2], \n",
    "                      1)\n",
    "x_test = x_test.reshape(x_test.shape[0], \n",
    "                        x_test.shape[1], \n",
    "                        x_test.shape[2], \n",
    "                        1)\n",
    "print(x_train.shape)\n",
    "print(x_val.shape)\n",
    "print(x_test.shape)"
   ]
  },
  {
   "cell_type": "code",
   "execution_count": 13,
   "metadata": {},
   "outputs": [
    {
     "name": "stdout",
     "output_type": "stream",
     "text": [
      "(16, 16, 1)\n"
     ]
    }
   ],
   "source": [
    "# Input shape for CNN is size of MFCC of 1 sample\n",
    "sample_shape = x_test.shape[1:]\n",
    "print(sample_shape)"
   ]
  },
  {
   "cell_type": "code",
   "execution_count": 14,
   "metadata": {},
   "outputs": [],
   "source": [
    "# Build model\n",
    "# Based on: https://www.geeksforgeeks.org/python-image-classification-using-keras/\n",
    "model = models.Sequential()\n",
    "model.add(layers.Conv2D(32, \n",
    "                        (2, 2), \n",
    "                        activation='relu',\n",
    "                        input_shape=sample_shape))\n",
    "model.add(layers.MaxPooling2D(pool_size=(2, 2)))\n",
    "\n",
    "model.add(layers.Conv2D(32, (2, 2), activation='relu'))\n",
    "model.add(layers.MaxPooling2D(pool_size=(2, 2)))\n",
    "\n",
    "model.add(layers.Conv2D(64, (2, 2), activation='relu'))\n",
    "model.add(layers.MaxPooling2D(pool_size=(2, 2)))\n",
    "\n",
    "# Classifier\n",
    "model.add(layers.Flatten())\n",
    "model.add(layers.Dense(64, activation='relu'))\n",
    "model.add(layers.Dropout(0.5))\n",
    "model.add(layers.Dense(1, activation='sigmoid'))"
   ]
  },
  {
   "cell_type": "code",
   "execution_count": 15,
   "metadata": {},
   "outputs": [
    {
     "name": "stdout",
     "output_type": "stream",
     "text": [
      "Model: \"sequential\"\n",
      "_________________________________________________________________\n",
      " Layer (type)                Output Shape              Param #   \n",
      "=================================================================\n",
      " conv2d (Conv2D)             (None, 15, 15, 32)        160       \n",
      "                                                                 \n",
      " max_pooling2d (MaxPooling2D  (None, 7, 7, 32)         0         \n",
      " )                                                               \n",
      "                                                                 \n",
      " conv2d_1 (Conv2D)           (None, 6, 6, 32)          4128      \n",
      "                                                                 \n",
      " max_pooling2d_1 (MaxPooling  (None, 3, 3, 32)         0         \n",
      " 2D)                                                             \n",
      "                                                                 \n",
      " conv2d_2 (Conv2D)           (None, 2, 2, 64)          8256      \n",
      "                                                                 \n",
      " max_pooling2d_2 (MaxPooling  (None, 1, 1, 64)         0         \n",
      " 2D)                                                             \n",
      "                                                                 \n",
      " flatten (Flatten)           (None, 64)                0         \n",
      "                                                                 \n",
      " dense (Dense)               (None, 64)                4160      \n",
      "                                                                 \n",
      " dropout (Dropout)           (None, 64)                0         \n",
      "                                                                 \n",
      " dense_1 (Dense)             (None, 1)                 65        \n",
      "                                                                 \n",
      "=================================================================\n",
      "Total params: 16,769\n",
      "Trainable params: 16,769\n",
      "Non-trainable params: 0\n",
      "_________________________________________________________________\n"
     ]
    }
   ],
   "source": [
    "# Display model\n",
    "model.summary()"
   ]
  },
  {
   "cell_type": "code",
   "execution_count": 16,
   "metadata": {},
   "outputs": [],
   "source": [
    "# Add training parameters to model\n",
    "model.compile(loss='binary_crossentropy', \n",
    "              optimizer='rmsprop', \n",
    "              metrics=['acc'])"
   ]
  },
  {
   "cell_type": "code",
   "execution_count": 17,
   "metadata": {},
   "outputs": [
    {
     "name": "stdout",
     "output_type": "stream",
     "text": [
      "Epoch 1/30\n",
      "11/11 [==============================] - 2s 39ms/step - loss: 0.3678 - acc: 0.8926 - val_loss: 0.2574 - val_acc: 0.9453\n",
      "Epoch 2/30\n",
      "11/11 [==============================] - 0s 18ms/step - loss: 0.2438 - acc: 0.9512 - val_loss: 0.2400 - val_acc: 0.9453\n",
      "Epoch 3/30\n",
      "11/11 [==============================] - 0s 15ms/step - loss: 0.2215 - acc: 0.9502 - val_loss: 0.2503 - val_acc: 0.9453\n",
      "Epoch 4/30\n",
      "11/11 [==============================] - 0s 15ms/step - loss: 0.2082 - acc: 0.9512 - val_loss: 0.2089 - val_acc: 0.9453\n",
      "Epoch 5/30\n",
      "11/11 [==============================] - 0s 15ms/step - loss: 0.2013 - acc: 0.9512 - val_loss: 0.2081 - val_acc: 0.9453\n",
      "Epoch 6/30\n",
      "11/11 [==============================] - 0s 19ms/step - loss: 0.2009 - acc: 0.9512 - val_loss: 0.2018 - val_acc: 0.9453\n",
      "Epoch 7/30\n",
      "11/11 [==============================] - 0s 26ms/step - loss: 0.1926 - acc: 0.9512 - val_loss: 0.1929 - val_acc: 0.9453\n",
      "Epoch 8/30\n",
      "11/11 [==============================] - 0s 18ms/step - loss: 0.1881 - acc: 0.9512 - val_loss: 0.1877 - val_acc: 0.9453\n",
      "Epoch 9/30\n",
      "11/11 [==============================] - 0s 16ms/step - loss: 0.1875 - acc: 0.9512 - val_loss: 0.1981 - val_acc: 0.9453\n",
      "Epoch 10/30\n",
      "11/11 [==============================] - 0s 17ms/step - loss: 0.1865 - acc: 0.9512 - val_loss: 0.2161 - val_acc: 0.9453\n",
      "Epoch 11/30\n",
      "11/11 [==============================] - 0s 15ms/step - loss: 0.1779 - acc: 0.9512 - val_loss: 0.1924 - val_acc: 0.9453\n",
      "Epoch 12/30\n",
      "11/11 [==============================] - 0s 15ms/step - loss: 0.1819 - acc: 0.9512 - val_loss: 0.1816 - val_acc: 0.9453\n",
      "Epoch 13/30\n",
      "11/11 [==============================] - 0s 15ms/step - loss: 0.1731 - acc: 0.9512 - val_loss: 0.1805 - val_acc: 0.9453\n",
      "Epoch 14/30\n",
      "11/11 [==============================] - 0s 15ms/step - loss: 0.1633 - acc: 0.9512 - val_loss: 0.2333 - val_acc: 0.9453\n",
      "Epoch 15/30\n",
      "11/11 [==============================] - 0s 15ms/step - loss: 0.1694 - acc: 0.9512 - val_loss: 0.1844 - val_acc: 0.9453\n",
      "Epoch 16/30\n",
      "11/11 [==============================] - 0s 13ms/step - loss: 0.1716 - acc: 0.9512 - val_loss: 0.2072 - val_acc: 0.9453\n",
      "Epoch 17/30\n",
      "11/11 [==============================] - 0s 15ms/step - loss: 0.1713 - acc: 0.9512 - val_loss: 0.1796 - val_acc: 0.9453\n",
      "Epoch 18/30\n",
      "11/11 [==============================] - 0s 15ms/step - loss: 0.1579 - acc: 0.9512 - val_loss: 0.1941 - val_acc: 0.9453\n",
      "Epoch 19/30\n",
      "11/11 [==============================] - 0s 16ms/step - loss: 0.1634 - acc: 0.9512 - val_loss: 0.2051 - val_acc: 0.9453\n",
      "Epoch 20/30\n",
      "11/11 [==============================] - 0s 21ms/step - loss: 0.1567 - acc: 0.9512 - val_loss: 0.1841 - val_acc: 0.9453\n",
      "Epoch 21/30\n",
      "11/11 [==============================] - 0s 15ms/step - loss: 0.1603 - acc: 0.9512 - val_loss: 0.1781 - val_acc: 0.9453\n",
      "Epoch 22/30\n",
      "11/11 [==============================] - 0s 16ms/step - loss: 0.1604 - acc: 0.9512 - val_loss: 0.1665 - val_acc: 0.9453\n",
      "Epoch 23/30\n",
      "11/11 [==============================] - 0s 15ms/step - loss: 0.1545 - acc: 0.9512 - val_loss: 0.1784 - val_acc: 0.9453\n",
      "Epoch 24/30\n",
      "11/11 [==============================] - 0s 16ms/step - loss: 0.1501 - acc: 0.9512 - val_loss: 0.1834 - val_acc: 0.9453\n",
      "Epoch 25/30\n",
      "11/11 [==============================] - 0s 15ms/step - loss: 0.1616 - acc: 0.9512 - val_loss: 0.1797 - val_acc: 0.9453\n",
      "Epoch 26/30\n",
      "11/11 [==============================] - 0s 16ms/step - loss: 0.1529 - acc: 0.9512 - val_loss: 0.2077 - val_acc: 0.9453\n",
      "Epoch 27/30\n",
      "11/11 [==============================] - 0s 16ms/step - loss: 0.1489 - acc: 0.9512 - val_loss: 0.2003 - val_acc: 0.9453\n",
      "Epoch 28/30\n",
      "11/11 [==============================] - 0s 15ms/step - loss: 0.1454 - acc: 0.9512 - val_loss: 0.2496 - val_acc: 0.9453\n",
      "Epoch 29/30\n",
      "11/11 [==============================] - 0s 17ms/step - loss: 0.1457 - acc: 0.9512 - val_loss: 0.2078 - val_acc: 0.9453\n",
      "Epoch 30/30\n",
      "11/11 [==============================] - 0s 16ms/step - loss: 0.1461 - acc: 0.9512 - val_loss: 0.2380 - val_acc: 0.9453\n"
     ]
    }
   ],
   "source": [
    "# Train\n",
    "history = model.fit(x_train, \n",
    "                    y_train, \n",
    "                    epochs=30, \n",
    "                    batch_size=100, \n",
    "                    validation_data=(x_val, y_val))"
   ]
  },
  {
   "cell_type": "code",
   "execution_count": 18,
   "metadata": {},
   "outputs": [
    {
     "data": {
      "image/png": "[encoded data removed]",
      "text/plain": [
       "<Figure size 432x288 with 1 Axes>"
      ]
     },
     "metadata": {
      "needs_background": "light"
     },
     "output_type": "display_data"
    },
    {
     "data": {
      "image/png": "[encoded data removed]",
      "text/plain": [
       "<Figure size 432x288 with 1 Axes>"
      ]
     },
     "metadata": {
      "needs_background": "light"
     },
     "output_type": "display_data"
    }
   ],
   "source": [
    "# Plot results\n",
    "import matplotlib.pyplot as plt\n",
    "\n",
    "acc = history.history['acc']\n",
    "val_acc = history.history['val_acc']\n",
    "loss = history.history['loss']\n",
    "val_loss = history.history['val_loss']\n",
    "\n",
    "epochs = range(1, len(acc) + 1)\n",
    "\n",
    "plt.plot(epochs, acc, 'bo', label='Training acc')\n",
    "plt.plot(epochs, val_acc, 'b', label='Validation acc')\n",
    "plt.title('Training and validation accuracy')\n",
    "plt.legend()\n",
    "\n",
    "plt.figure()\n",
    "\n",
    "plt.plot(epochs, loss, 'bo', label='Training loss')\n",
    "plt.plot(epochs, val_loss, 'b', label='Validation loss')\n",
    "plt.title('Training and validation loss')\n",
    "plt.legend()\n",
    "\n",
    "plt.show()"
   ]
  },
  {
   "cell_type": "code",
   "execution_count": 19,
   "metadata": {},
   "outputs": [],
   "source": [
    "# Save the model as a file\n",
    "models.save_model(model, model_filename)"
   ]
  },
  {
   "cell_type": "code",
   "execution_count": 20,
   "metadata": {},
   "outputs": [
    {
     "name": "stdout",
     "output_type": "stream",
     "text": [
      "12\n",
      "22\n",
      "27\n",
      "44\n",
      "108\n"
     ]
    }
   ],
   "source": [
    "# See which are 'stop'\n",
    "for idx, y in enumerate(y_test):\n",
    "    if y == 1:\n",
    "        print(idx)"
   ]
  },
  {
   "cell_type": "code",
   "execution_count": 21,
   "metadata": {},
   "outputs": [
    {
     "name": "stdout",
     "output_type": "stream",
     "text": [
      "1/1 [==============================] - 0s 139ms/step\n",
      "Answer: 0.0  Prediction: [[0.01095418]]\n",
      "1/1 [==============================] - 0s 23ms/step\n",
      "Answer: 0.0  Prediction: [[9.467278e-14]]\n",
      "1/1 [==============================] - 0s 24ms/step\n",
      "Answer: 0.0  Prediction: [[0.02416217]]\n",
      "1/1 [==============================] - 0s 23ms/step\n",
      "Answer: 0.0  Prediction: [[2.4677096e-10]]\n",
      "1/1 [==============================] - 0s 28ms/step\n",
      "Answer: 0.0  Prediction: [[7.954945e-07]]\n",
      "1/1 [==============================] - 0s 24ms/step\n",
      "Answer: 0.0  Prediction: [[0.00720902]]\n",
      "1/1 [==============================] - 0s 10ms/step\n",
      "Answer: 0.0  Prediction: [[0.0025338]]\n",
      "1/1 [==============================] - 0s 19ms/step\n",
      "Answer: 0.0  Prediction: [[0.05776357]]\n",
      "1/1 [==============================] - 0s 5ms/step\n",
      "Answer: 1.0  Prediction: [[0.0476181]]\n",
      "1/1 [==============================] - 0s 19ms/step\n",
      "Answer: 0.0  Prediction: [[6.723546e-05]]\n"
     ]
    }
   ],
   "source": [
    "# TEST: Load model and run it against test set\n",
    "model = models.load_model(model_filename)\n",
    "for i in range(100, 110):\n",
    "    print('Answer:', y_test[i], ' Prediction:', model.predict(np.expand_dims(x_test[i], 0)))"
   ]
  },
  {
   "cell_type": "code",
   "execution_count": 22,
   "metadata": {},
   "outputs": [
    {
     "name": "stdout",
     "output_type": "stream",
     "text": [
      "4/4 [==============================] - 0s 4ms/step - loss: 0.1318 - acc: 0.9609\n"
     ]
    },
    {
     "data": {
      "text/plain": [
       "[0.1318162977695465, 0.9609375]"
      ]
     },
     "execution_count": 22,
     "metadata": {},
     "output_type": "execute_result"
    }
   ],
   "source": [
    "# Evaluate model with test set\n",
    "model.evaluate(x=x_test, y=y_test)"
   ]
  },
  {
   "cell_type": "code",
   "execution_count": null,
   "metadata": {},
   "outputs": [],
   "source": []
  }
 ],
 "metadata": {
  "kernelspec": {
   "display_name": "Python 3 (ipykernel)",
   "language": "python",
   "name": "python3"
  },
  "language_info": {
   "codemirror_mode": {
    "name": "ipython",
    "version": 3
   },
   "file_extension": ".py",
   "mimetype": "text/x-python",
   "name": "python",
   "nbconvert_exporter": "python",
   "pygments_lexer": "ipython3",
   "version": "3.9.12"
  }
 },
 "nbformat": 4,
 "nbformat_minor": 4
}
